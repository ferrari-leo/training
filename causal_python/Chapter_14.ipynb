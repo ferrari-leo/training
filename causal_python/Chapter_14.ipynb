{
 "cells": [
  {
   "cell_type": "code",
   "execution_count": 1,
   "metadata": {},
   "outputs": [
    {
     "name": "stderr",
     "output_type": "stream",
     "text": [
      "/Users/IFLM/anaconda3/envs/causal_book_py39/lib/python3.9/site-packages/tqdm/auto.py:21: TqdmWarning: IProgress not found. Please update jupyter and ipywidgets. See https://ipywidgets.readthedocs.io/en/stable/user_install.html\n",
      "  from .autonotebook import tqdm as notebook_tqdm\n"
     ]
    }
   ],
   "source": [
    "from dataclasses import dataclass\n",
    "\n",
    "import numpy as np\n",
    "import networkx as nx\n",
    "\n",
    "import torch\n",
    "import pytorch_lightning as pl\n",
    "\n",
    "from torch.utils.data import DataLoader\n",
    "from tensordict import TensorDict\n",
    "\n",
    "from castle.datasets import DAG, IIDSimulation \n",
    "from castle.common import GraphDAG\n",
    "from castle.metrics import MetricsDAG\n",
    "\n",
    "import causica.distributions as cd\n",
    "\n",
    "from causica.functional_relationships import ICGNN\n",
    "from causica.training.auglag import AugLagLossCalculator, AugLagLR, AugLagLRConfig\n",
    "from causica.graph.dag_constraint import calculate_dagness\n",
    "\n",
    "from causica.datasets.variable_types import VariableTypeEnum\n",
    "from causica.datasets.tensordict_utils import tensordict_shapes\n",
    "\n",
    "import matplotlib.pyplot as plt\n",
    "plt.style.use('fivethirtyeight')"
   ]
  },
  {
   "cell_type": "code",
   "execution_count": 2,
   "metadata": {},
   "outputs": [],
   "source": [
    "# Set device\n",
    "device = \"mps\" if torch.backends.mps.is_available() else \"cpu\""
   ]
  },
  {
   "cell_type": "code",
   "execution_count": 3,
   "metadata": {},
   "outputs": [],
   "source": [
    "COLORS = [\n",
    "    '#00B0F0',\n",
    "    '#FF0000',\n",
    "    '#B0F000'\n",
    "]"
   ]
  },
  {
   "cell_type": "markdown",
   "metadata": {},
   "source": [
    "# Chapter 14\n"
   ]
  },
  {
   "cell_type": "code",
   "execution_count": 4,
   "metadata": {},
   "outputs": [
    {
     "name": "stderr",
     "output_type": "stream",
     "text": [
      "Global seed set to 11\n"
     ]
    },
    {
     "data": {
      "text/plain": [
       "11"
      ]
     },
     "execution_count": 4,
     "metadata": {},
     "output_type": "execute_result"
    }
   ],
   "source": [
    "# Set random seed\n",
    "SEED = 11\n",
    "np.random.seed(SEED)\n",
    "pl.seed_everything(SEED)  "
   ]
  },
  {
   "cell_type": "markdown",
   "metadata": {},
   "source": [
    "## DECI"
   ]
  },
  {
   "cell_type": "markdown",
   "metadata": {},
   "source": [
    "### Data & configuration"
   ]
  },
  {
   "cell_type": "code",
   "execution_count": 5,
   "metadata": {},
   "outputs": [
    {
     "data": {
      "text/plain": [
       "'2.8.7'"
      ]
     },
     "execution_count": 5,
     "metadata": {},
     "output_type": "execute_result"
    }
   ],
   "source": [
    "nx.__version__"
   ]
  },
  {
   "cell_type": "code",
   "execution_count": 6,
   "metadata": {},
   "outputs": [
    {
     "name": "stderr",
     "output_type": "stream",
     "text": [
      "2024-01-26 17:32:03,443 - /Users/IFLM/anaconda3/envs/causal_book_py39/lib/python3.9/site-packages/castle/datasets/simulator.py[line:270] - INFO: Finished synthetic dataset\n"
     ]
    }
   ],
   "source": [
    "# Generate a scale-free adjacency matrix\n",
    "adj_matrix = DAG.scale_free(\n",
    "    n_nodes=4,\n",
    "    n_edges=6,\n",
    "    seed=SEED\n",
    ")\n",
    "\n",
    "# Generate the simulation\n",
    "dataset = IIDSimulation(\n",
    "    W=adj_matrix, \n",
    "    n=5000, \n",
    "    method='nonlinear', \n",
    "    sem_type='mim'\n",
    ")"
   ]
  },
  {
   "cell_type": "code",
   "execution_count": 7,
   "metadata": {
    "scrolled": false
   },
   "outputs": [
    {
     "data": {
      "image/png": "[encoded data removed]",
      "text/plain": [
       "<Figure size 400x300 with 1 Axes>"
      ]
     },
     "metadata": {},
     "output_type": "display_data"
    }
   ],
   "source": [
    "# Plot the graph\n",
    "g = nx.DiGraph(adj_matrix)\n",
    "\n",
    "plt.figure(figsize=(4, 3))\n",
    "nx.draw(\n",
    "    G=g,\n",
    "    node_color=COLORS[0],\n",
    "    node_size=1200,\n",
    "    arrowsize=17,\n",
    "    with_labels=True,\n",
    "    font_color='white',\n",
    "    font_size=21,\n",
    "    pos=nx.circular_layout(g)\n",
    ")"
   ]
  },
  {
   "cell_type": "code",
   "execution_count": 8,
   "metadata": {},
   "outputs": [],
   "source": [
    "# Training config\n",
    "@dataclass(frozen=True)\n",
    "class TrainingConfig:\n",
    "    noise_dist=cd.ContinuousNoiseDist.SPLINE\n",
    "    batch_size=512\n",
    "    max_epoch=500\n",
    "    gumbel_temp=0.25\n",
    "    averaging_period=10\n",
    "    prior_sparsity_lambda=5.0\n",
    "    init_rho=1.0\n",
    "    init_alpha=0.0\n",
    "        \n",
    "training_config = TrainingConfig()\n",
    "auglag_config = AugLagLRConfig()"
   ]
  },
  {
   "cell_type": "code",
   "execution_count": 9,
   "metadata": {},
   "outputs": [
    {
     "data": {
      "text/plain": [
       "TensorDict(\n",
       "    fields={\n",
       "        x0: Tensor(shape=torch.Size([5000, 1]), device=mps:0, dtype=torch.float32, is_shared=False),\n",
       "        x1: Tensor(shape=torch.Size([5000, 1]), device=mps:0, dtype=torch.float32, is_shared=False),\n",
       "        x2: Tensor(shape=torch.Size([5000, 1]), device=mps:0, dtype=torch.float32, is_shared=False),\n",
       "        x3: Tensor(shape=torch.Size([5000, 1]), device=mps:0, dtype=torch.float32, is_shared=False)},\n",
       "    batch_size=torch.Size([5000]),\n",
       "    device=None,\n",
       "    is_shared=False)"
      ]
     },
     "execution_count": 9,
     "metadata": {},
     "output_type": "execute_result"
    }
   ],
   "source": [
    "# Cast data to torch tensors\n",
    "data_tensors = {}\n",
    "\n",
    "for i in range(dataset.X.shape[1]):\n",
    "    data_tensors[f'x{i}'] = torch.tensor(dataset.X[:, i].reshape(-1, 1))\n",
    "    \n",
    "dataset_train = TensorDict(data_tensors, torch.Size([dataset.X.shape[0]]))\n",
    "    \n",
    "# Move the entire dataset to the device (for big datasets move to device by batch within training loop)\n",
    "dataset_train = dataset_train.apply(lambda t: t.to(dtype=torch.float32, device=device))\n",
    "\n",
    "# Create loader\n",
    "dataloader_train = DataLoader(\n",
    "    dataset=dataset_train,\n",
    "    collate_fn=lambda x: x,\n",
    "    batch_size=training_config.batch_size,\n",
    "    shuffle=True,\n",
    "    drop_last=False,\n",
    ")\n",
    "\n",
    "dataset_train"
   ]
  },
  {
   "cell_type": "markdown",
   "metadata": {},
   "source": [
    "### Expert knowledge"
   ]
  },
  {
   "cell_type": "code",
   "execution_count": 10,
   "metadata": {},
   "outputs": [
    {
     "data": {
      "image/png": "[encoded data removed]",
      "text/plain": [
       "<Figure size 400x300 with 2 Axes>"
      ]
     },
     "metadata": {},
     "output_type": "display_data"
    }
   ],
   "source": [
    "# Plot the true adj matrix\n",
    "plt.style.use('default')\n",
    "GraphDAG(adj_matrix)\n",
    "plt.show()"
   ]
  },
  {
   "cell_type": "code",
   "execution_count": 11,
   "metadata": {},
   "outputs": [],
   "source": [
    "# Encode our strong belief about the existence of the edge (3, 0) \n",
    "# And lack of existence of edge (0, 3)\n",
    "expert_matrix = torch.tensor(np.zeros(adj_matrix.shape))\n",
    "\n",
    "# Encode the edge knowledge\n",
    "expert_matrix[3, 0] = 1.\n",
    "\n",
    "# Create a relevancew mask\n",
    "relevance_mask = expert_matrix.clone()\n",
    "relevance_mask[0, 3] = 1.\n",
    "\n",
    "# Create a confidence matrix\n",
    "confidence_matrix = relevance_mask.clone()"
   ]
  },
  {
   "cell_type": "code",
   "execution_count": 12,
   "metadata": {},
   "outputs": [],
   "source": [
    "# Encapsulate everything within the expert knowledge container\n",
    "expert_knowledge = cd.ExpertGraphContainer(\n",
    "    dag=expert_matrix,\n",
    "    mask=relevance_mask,\n",
    "    confidence=confidence_matrix,\n",
    "    scale=5.\n",
    ")"
   ]
  },
  {
   "cell_type": "code",
   "execution_count": 13,
   "metadata": {},
   "outputs": [],
   "source": [
    "num_nodes = len(dataset_train.keys())\n",
    "\n",
    "# Define the prior\n",
    "prior = cd.GibbsDAGPrior(\n",
    "    num_nodes=num_nodes, \n",
    "    sparsity_lambda=training_config.prior_sparsity_lambda,\n",
    "    expert_graph_container=expert_knowledge\n",
    ")"
   ]
  },
  {
   "cell_type": "code",
   "execution_count": 14,
   "metadata": {},
   "outputs": [],
   "source": [
    "# Define the adjaceny module\n",
    "adjacency_dist = cd.ENCOAdjacencyDistributionModule(num_nodes)\n",
    "\n",
    "#Define the functional module\n",
    "icgnn = ICGNN(\n",
    "    variables=tensordict_shapes(dataset_train),\n",
    "    embedding_size=8, #32,\n",
    "    out_dim_g=8, #32,\n",
    "    norm_layer=torch.nn.LayerNorm,\n",
    "    res_connection=True,\n",
    ")\n",
    "\n",
    "# Define the noise module\n",
    "types_dict = {var_name: VariableTypeEnum.CONTINUOUS for var_name in dataset_train.keys()}\n",
    "\n",
    "noise_submodules = cd.create_noise_modules(\n",
    "    shapes=tensordict_shapes(dataset_train), \n",
    "    types=types_dict, \n",
    "    continuous_noise_dist=training_config.noise_dist\n",
    ")\n",
    "\n",
    "noise_module = cd.JointNoiseModule(noise_submodules)"
   ]
  },
  {
   "cell_type": "code",
   "execution_count": 15,
   "metadata": {},
   "outputs": [
    {
     "data": {
      "text/plain": [
       "{'x0': SplineNoiseModule(\n",
       "   (composite_spline_layers): ModuleList(\n",
       "     (0-1): 2 x CompositeSplineLayer()\n",
       "   )\n",
       " ),\n",
       " 'x1': SplineNoiseModule(\n",
       "   (composite_spline_layers): ModuleList(\n",
       "     (0-1): 2 x CompositeSplineLayer()\n",
       "   )\n",
       " ),\n",
       " 'x2': SplineNoiseModule(\n",
       "   (composite_spline_layers): ModuleList(\n",
       "     (0-1): 2 x CompositeSplineLayer()\n",
       "   )\n",
       " ),\n",
       " 'x3': SplineNoiseModule(\n",
       "   (composite_spline_layers): ModuleList(\n",
       "     (0-1): 2 x CompositeSplineLayer()\n",
       "   )\n",
       " )}"
      ]
     },
     "execution_count": 15,
     "metadata": {},
     "output_type": "execute_result"
    }
   ],
   "source": [
    "noise_submodules"
   ]
  },
  {
   "cell_type": "code",
   "execution_count": 16,
   "metadata": {},
   "outputs": [
    {
     "name": "stdout",
     "output_type": "stream",
     "text": [
      "\u001b[0;31mInit signature:\u001b[0m\n",
      "\u001b[0mcd\u001b[0m\u001b[0;34m.\u001b[0m\u001b[0mSEMDistributionModule\u001b[0m\u001b[0;34m(\u001b[0m\u001b[0;34m\u001b[0m\n",
      "\u001b[0;34m\u001b[0m    \u001b[0madjacency_module\u001b[0m\u001b[0;34m:\u001b[0m \u001b[0mcausica\u001b[0m\u001b[0;34m.\u001b[0m\u001b[0mdistributions\u001b[0m\u001b[0;34m.\u001b[0m\u001b[0mdistribution_module\u001b[0m\u001b[0;34m.\u001b[0m\u001b[0mDistributionModule\u001b[0m\u001b[0;34m[\u001b[0m\u001b[0mcausica\u001b[0m\u001b[0;34m.\u001b[0m\u001b[0mdistributions\u001b[0m\u001b[0;34m.\u001b[0m\u001b[0madjacency\u001b[0m\u001b[0;34m.\u001b[0m\u001b[0madjacency_distributions\u001b[0m\u001b[0;34m.\u001b[0m\u001b[0mAdjacencyDistribution\u001b[0m\u001b[0;34m]\u001b[0m\u001b[0;34m,\u001b[0m\u001b[0;34m\u001b[0m\n",
      "\u001b[0;34m\u001b[0m    \u001b[0mfunctional_relationships\u001b[0m\u001b[0;34m:\u001b[0m \u001b[0mcausica\u001b[0m\u001b[0;34m.\u001b[0m\u001b[0mfunctional_relationships\u001b[0m\u001b[0;34m.\u001b[0m\u001b[0mfunctional_relationships\u001b[0m\u001b[0;34m.\u001b[0m\u001b[0mFunctionalRelationships\u001b[0m\u001b[0;34m,\u001b[0m\u001b[0;34m\u001b[0m\n",
      "\u001b[0;34m\u001b[0m    \u001b[0mnoise_module\u001b[0m\u001b[0;34m:\u001b[0m \u001b[0mcausica\u001b[0m\u001b[0;34m.\u001b[0m\u001b[0mdistributions\u001b[0m\u001b[0;34m.\u001b[0m\u001b[0mnoise\u001b[0m\u001b[0;34m.\u001b[0m\u001b[0mjoint\u001b[0m\u001b[0;34m.\u001b[0m\u001b[0mJointNoiseModule\u001b[0m\u001b[0;34m,\u001b[0m\u001b[0;34m\u001b[0m\n",
      "\u001b[0;34m\u001b[0m\u001b[0;34m)\u001b[0m\u001b[0;34m\u001b[0m\u001b[0;34m\u001b[0m\u001b[0m\n",
      "\u001b[0;31mDocstring:\u001b[0m      Represents a SEMDistribution with learnable parameters.\n",
      "\u001b[0;31mInit docstring:\u001b[0m Initializes internal Module state, shared by both nn.Module and ScriptModule.\n",
      "\u001b[0;31mFile:\u001b[0m           ~/anaconda3/envs/causal_book_py39/lib/python3.9/site-packages/causica/distributions/sem_distribution.py\n",
      "\u001b[0;31mType:\u001b[0m           type\n",
      "\u001b[0;31mSubclasses:\u001b[0m     "
     ]
    }
   ],
   "source": [
    "?cd.SEMDistributionModule"
   ]
  },
  {
   "cell_type": "code",
   "execution_count": 17,
   "metadata": {},
   "outputs": [
    {
     "data": {
      "text/plain": [
       "SEMDistributionModule(\n",
       "  (adjacency_module): ENCOAdjacencyDistributionModule()\n",
       "  (functional_relationships): ICGNN(\n",
       "    (nn): FGNNI(\n",
       "      (g): Sequential(\n",
       "        (0): Sequential(\n",
       "          (0): Linear(in_features=12, out_features=64, bias=True)\n",
       "          (1): LeakyReLU(negative_slope=0.01)\n",
       "        )\n",
       "        (1): _ResBlock(\n",
       "          (block): Sequential(\n",
       "            (0): LayerNorm((64,), eps=1e-05, elementwise_affine=True)\n",
       "            (1): Linear(in_features=64, out_features=64, bias=True)\n",
       "            (2): LeakyReLU(negative_slope=0.01)\n",
       "          )\n",
       "        )\n",
       "        (2): LayerNorm((64,), eps=1e-05, elementwise_affine=True)\n",
       "        (3): Linear(in_features=64, out_features=8, bias=True)\n",
       "        (4): Identity()\n",
       "      )\n",
       "      (f): Sequential(\n",
       "        (0): Sequential(\n",
       "          (0): Linear(in_features=16, out_features=64, bias=True)\n",
       "          (1): LeakyReLU(negative_slope=0.01)\n",
       "        )\n",
       "        (1): _ResBlock(\n",
       "          (block): Sequential(\n",
       "            (0): LayerNorm((64,), eps=1e-05, elementwise_affine=True)\n",
       "            (1): Linear(in_features=64, out_features=64, bias=True)\n",
       "            (2): LeakyReLU(negative_slope=0.01)\n",
       "          )\n",
       "        )\n",
       "        (2): LayerNorm((64,), eps=1e-05, elementwise_affine=True)\n",
       "        (3): Linear(in_features=64, out_features=4, bias=True)\n",
       "        (4): Identity()\n",
       "      )\n",
       "    )\n",
       "  )\n",
       "  (noise_module): JointNoiseModule(\n",
       "    (noise_modules): ModuleDict(\n",
       "      (x0): SplineNoiseModule(\n",
       "        (composite_spline_layers): ModuleList(\n",
       "          (0-1): 2 x CompositeSplineLayer()\n",
       "        )\n",
       "      )\n",
       "      (x1): SplineNoiseModule(\n",
       "        (composite_spline_layers): ModuleList(\n",
       "          (0-1): 2 x CompositeSplineLayer()\n",
       "        )\n",
       "      )\n",
       "      (x2): SplineNoiseModule(\n",
       "        (composite_spline_layers): ModuleList(\n",
       "          (0-1): 2 x CompositeSplineLayer()\n",
       "        )\n",
       "      )\n",
       "      (x3): SplineNoiseModule(\n",
       "        (composite_spline_layers): ModuleList(\n",
       "          (0-1): 2 x CompositeSplineLayer()\n",
       "        )\n",
       "      )\n",
       "    )\n",
       "  )\n",
       ")"
      ]
     },
     "execution_count": 17,
     "metadata": {},
     "output_type": "execute_result"
    }
   ],
   "source": [
    "# Combine all SEM modules\n",
    "sem_module = cd.SEMDistributionModule(\n",
    "    adjacency_module=adjacency_dist, \n",
    "    functional_relationships=icgnn, \n",
    "    noise_module=noise_module)\n",
    "\n",
    "sem_module.to(device)"
   ]
  },
  {
   "cell_type": "code",
   "execution_count": 18,
   "metadata": {},
   "outputs": [],
   "source": [
    "modules = {\n",
    "    \"icgnn\": sem_module.functional_relationships,\n",
    "    \"vardist\": sem_module.adjacency_module,\n",
    "    \"noise_dist\": sem_module.noise_module,\n",
    "}\n",
    "\n",
    "parameter_list = [\n",
    "    {\"params\": module.parameters(), \"lr\": auglag_config.lr_init_dict[name], \"name\": name}\n",
    "    for name, module in modules.items()\n",
    "]\n",
    "\n",
    "# Define the optimizer\n",
    "optimizer = torch.optim.Adam(parameter_list)"
   ]
  },
  {
   "cell_type": "code",
   "execution_count": 23,
   "metadata": {},
   "outputs": [],
   "source": [
    "# Define the augmented Lagrangian loss objects\n",
    "scheduler = AugLagLR(config=auglag_config)\n",
    "\n",
    "auglag_loss = AugLagLossCalculator(\n",
    "    init_alpha=training_config.init_alpha, \n",
    "    init_rho=training_config.init_rho\n",
    ")"
   ]
  },
  {
   "cell_type": "code",
   "execution_count": 20,
   "metadata": {
    "scrolled": true
   },
   "outputs": [
    {
     "ename": "NotImplementedError",
     "evalue": "The operator 'aten::triu_indices' is not currently implemented for the MPS device. If you want this op to be added in priority during the prototype phase of this feature, please comment on https://github.com/pytorch/pytorch/issues/77764. As a temporary fix, you can set the environment variable `PYTORCH_ENABLE_MPS_FALLBACK=1` to use the CPU as a fallback for this op. WARNING: this will be slower than running natively on MPS.",
     "output_type": "error",
     "traceback": [
      "\u001b[0;31m---------------------------------------------------------------------------\u001b[0m",
      "\u001b[0;31mNotImplementedError\u001b[0m                       Traceback (most recent call last)",
      "Cell \u001b[0;32mIn[20], line 14\u001b[0m\n\u001b[1;32m     12\u001b[0m \u001b[38;5;66;03m# Get SEM \u001b[39;00m\n\u001b[1;32m     13\u001b[0m sem_distribution \u001b[38;5;241m=\u001b[39m sem_module()\n\u001b[0;32m---> 14\u001b[0m sem, \u001b[38;5;241m*\u001b[39m_ \u001b[38;5;241m=\u001b[39m \u001b[43msem_distribution\u001b[49m\u001b[38;5;241;43m.\u001b[39;49m\u001b[43mrelaxed_sample\u001b[49m\u001b[43m(\u001b[49m\n\u001b[1;32m     15\u001b[0m \u001b[43m    \u001b[49m\u001b[43mtorch\u001b[49m\u001b[38;5;241;43m.\u001b[39;49m\u001b[43mSize\u001b[49m\u001b[43m(\u001b[49m\u001b[43m[\u001b[49m\u001b[43m]\u001b[49m\u001b[43m)\u001b[49m\u001b[43m,\u001b[49m\u001b[43m \u001b[49m\n\u001b[1;32m     16\u001b[0m \u001b[43m    \u001b[49m\u001b[43mtemperature\u001b[49m\u001b[38;5;241;43m=\u001b[39;49m\u001b[43mtraining_config\u001b[49m\u001b[38;5;241;43m.\u001b[39;49m\u001b[43mgumbel_temp\u001b[49m\n\u001b[1;32m     17\u001b[0m \u001b[43m\u001b[49m\u001b[43m)\u001b[49m  \u001b[38;5;66;03m# soft sample\u001b[39;00m\n\u001b[1;32m     19\u001b[0m \u001b[38;5;66;03m# Compute the log probability of data\u001b[39;00m\n\u001b[1;32m     20\u001b[0m batch_log_prob \u001b[38;5;241m=\u001b[39m sem\u001b[38;5;241m.\u001b[39mlog_prob(batch)\u001b[38;5;241m.\u001b[39mmean()\n",
      "File \u001b[0;32m~/anaconda3/envs/causal_book_py39/lib/python3.9/site-packages/causica/distributions/sem_distribution.py:63\u001b[0m, in \u001b[0;36mSEMDistribution.relaxed_sample\u001b[0;34m(self, sample_shape, temperature)\u001b[0m\n\u001b[1;32m     60\u001b[0m \u001b[38;5;28;01mdef\u001b[39;00m \u001b[38;5;21mrelaxed_sample\u001b[39m(\n\u001b[1;32m     61\u001b[0m     \u001b[38;5;28mself\u001b[39m, sample_shape: torch\u001b[38;5;241m.\u001b[39mSize \u001b[38;5;241m=\u001b[39m torch\u001b[38;5;241m.\u001b[39mSize(), temperature: \u001b[38;5;28mfloat\u001b[39m \u001b[38;5;241m=\u001b[39m \u001b[38;5;241m0.0\u001b[39m\n\u001b[1;32m     62\u001b[0m ) \u001b[38;5;241m-\u001b[39m\u001b[38;5;241m>\u001b[39m List[DistributionParametersSEM]:\n\u001b[0;32m---> 63\u001b[0m     graphs \u001b[38;5;241m=\u001b[39m \u001b[38;5;28;43mself\u001b[39;49m\u001b[38;5;241;43m.\u001b[39;49m\u001b[43m_adjacency_dist\u001b[49m\u001b[38;5;241;43m.\u001b[39;49m\u001b[43mrelaxed_sample\u001b[49m\u001b[43m(\u001b[49m\u001b[43msample_shape\u001b[49m\u001b[38;5;241;43m=\u001b[39;49m\u001b[43msample_shape\u001b[49m\u001b[43m,\u001b[49m\u001b[43m \u001b[49m\u001b[43mtemperature\u001b[49m\u001b[38;5;241;43m=\u001b[39;49m\u001b[43mtemperature\u001b[49m\u001b[43m)\u001b[49m\n\u001b[1;32m     64\u001b[0m     \u001b[38;5;28;01mreturn\u001b[39;00m \u001b[38;5;28mself\u001b[39m\u001b[38;5;241m.\u001b[39m_create_sems(graphs)\n",
      "File \u001b[0;32m~/anaconda3/envs/causal_book_py39/lib/python3.9/site-packages/causica/distributions/adjacency/enco.py:91\u001b[0m, in \u001b[0;36mENCOAdjacencyDistribution.relaxed_sample\u001b[0;34m(self, sample_shape, temperature)\u001b[0m\n\u001b[1;32m     82\u001b[0m \u001b[38;5;28;01mdef\u001b[39;00m \u001b[38;5;21mrelaxed_sample\u001b[39m(\u001b[38;5;28mself\u001b[39m, sample_shape: torch\u001b[38;5;241m.\u001b[39mSize \u001b[38;5;241m=\u001b[39m torch\u001b[38;5;241m.\u001b[39mSize(), temperature: \u001b[38;5;28mfloat\u001b[39m \u001b[38;5;241m=\u001b[39m \u001b[38;5;241m0.0\u001b[39m) \u001b[38;5;241m-\u001b[39m\u001b[38;5;241m>\u001b[39m torch\u001b[38;5;241m.\u001b[39mTensor:\n\u001b[1;32m     83\u001b[0m \u001b[38;5;250m    \u001b[39m\u001b[38;5;124;03m\"\"\"\u001b[39;00m\n\u001b[1;32m     84\u001b[0m \u001b[38;5;124;03m    Sample from a relaxed distribution. We use a Gumbel Softmax.\u001b[39;00m\n\u001b[1;32m     85\u001b[0m \n\u001b[0;32m   (...)\u001b[0m\n\u001b[1;32m     89\u001b[0m \u001b[38;5;124;03m        A tensor of shape sample_shape + batch_shape + (num_nodes, num_nodes)\u001b[39;00m\n\u001b[1;32m     90\u001b[0m \u001b[38;5;124;03m    \"\"\"\u001b[39;00m\n\u001b[0;32m---> 91\u001b[0m     logits \u001b[38;5;241m=\u001b[39m \u001b[38;5;28;43mself\u001b[39;49m\u001b[38;5;241;43m.\u001b[39;49m\u001b[43m_get_independent_bernoulli_logits\u001b[49m\u001b[43m(\u001b[49m\u001b[43m)\u001b[49m\n\u001b[1;32m     92\u001b[0m     expanded_logits \u001b[38;5;241m=\u001b[39m logits\u001b[38;5;241m.\u001b[39mexpand(\u001b[38;5;241m*\u001b[39m(sample_shape \u001b[38;5;241m+\u001b[39m logits\u001b[38;5;241m.\u001b[39mshape))\n\u001b[1;32m     93\u001b[0m     samples \u001b[38;5;241m=\u001b[39m gumbel_softmax_binary(logits\u001b[38;5;241m=\u001b[39mexpanded_logits, tau\u001b[38;5;241m=\u001b[39mtemperature, hard\u001b[38;5;241m=\u001b[39m\u001b[38;5;28;01mTrue\u001b[39;00m)\n",
      "File \u001b[0;32m~/anaconda3/envs/causal_book_py39/lib/python3.9/site-packages/causica/distributions/adjacency/enco.py:72\u001b[0m, in \u001b[0;36mENCOAdjacencyDistribution._get_independent_bernoulli_logits\u001b[0;34m(self)\u001b[0m\n\u001b[1;32m     60\u001b[0m \u001b[38;5;250m\u001b[39m\u001b[38;5;124;03m\"\"\"\u001b[39;00m\n\u001b[1;32m     61\u001b[0m \u001b[38;5;124;03mConstruct the matrix logit(pᵢⱼ).\u001b[39;00m\n\u001b[1;32m     62\u001b[0m \n\u001b[0;32m   (...)\u001b[0m\n\u001b[1;32m     69\u001b[0m \u001b[38;5;124;03m               = - logsumexp([-γᵢⱼ, -θᵢⱼ, -θᵢⱼ - γᵢⱼ])\u001b[39;00m\n\u001b[1;32m     70\u001b[0m \u001b[38;5;124;03m\"\"\"\u001b[39;00m\n\u001b[1;32m     71\u001b[0m \u001b[38;5;66;03m# (..., num_nodes, num_nodes)\u001b[39;00m\n\u001b[0;32m---> 72\u001b[0m neg_theta \u001b[38;5;241m=\u001b[39m \u001b[43mfill_triangular\u001b[49m\u001b[43m(\u001b[49m\u001b[38;5;28;43mself\u001b[39;49m\u001b[38;5;241;43m.\u001b[39;49m\u001b[43mlogits_orient\u001b[49m\u001b[43m,\u001b[49m\u001b[43m \u001b[49m\u001b[43mupper\u001b[49m\u001b[38;5;241;43m=\u001b[39;49m\u001b[38;5;28;43;01mTrue\u001b[39;49;00m\u001b[43m)\u001b[49m \u001b[38;5;241m-\u001b[39m fill_triangular(\u001b[38;5;28mself\u001b[39m\u001b[38;5;241m.\u001b[39mlogits_orient, upper\u001b[38;5;241m=\u001b[39m\u001b[38;5;28;01mFalse\u001b[39;00m)\n\u001b[1;32m     73\u001b[0m \u001b[38;5;28;01mreturn\u001b[39;00m \u001b[38;5;241m-\u001b[39mtorch\u001b[38;5;241m.\u001b[39mlogsumexp(\n\u001b[1;32m     74\u001b[0m     torch\u001b[38;5;241m.\u001b[39mstack([\u001b[38;5;241m-\u001b[39m\u001b[38;5;28mself\u001b[39m\u001b[38;5;241m.\u001b[39mlogits_exist, neg_theta, neg_theta \u001b[38;5;241m-\u001b[39m \u001b[38;5;28mself\u001b[39m\u001b[38;5;241m.\u001b[39mlogits_exist], dim\u001b[38;5;241m=\u001b[39m\u001b[38;5;241m-\u001b[39m\u001b[38;5;241m1\u001b[39m), dim\u001b[38;5;241m=\u001b[39m\u001b[38;5;241m-\u001b[39m\u001b[38;5;241m1\u001b[39m\n\u001b[1;32m     75\u001b[0m )\n",
      "File \u001b[0;32m~/anaconda3/envs/causal_book_py39/lib/python3.9/site-packages/causica/triangular_transformations.py:15\u001b[0m, in \u001b[0;36mfill_triangular\u001b[0;34m(vec, upper)\u001b[0m\n\u001b[1;32m      6\u001b[0m \u001b[38;5;250m\u001b[39m\u001b[38;5;124;03m\"\"\"\u001b[39;00m\n\u001b[1;32m      7\u001b[0m \u001b[38;5;124;03mArgs:\u001b[39;00m\n\u001b[1;32m      8\u001b[0m \u001b[38;5;124;03m    vec: A tensor of shape (..., n(n-1)/2)\u001b[39;00m\n\u001b[0;32m   (...)\u001b[0m\n\u001b[1;32m     12\u001b[0m \u001b[38;5;124;03m    with zeros elsewhere\u001b[39;00m\n\u001b[1;32m     13\u001b[0m \u001b[38;5;124;03m\"\"\"\u001b[39;00m\n\u001b[1;32m     14\u001b[0m num_nodes \u001b[38;5;241m=\u001b[39m num_lower_tri_elements_to_n(vec\u001b[38;5;241m.\u001b[39mshape[\u001b[38;5;241m-\u001b[39m\u001b[38;5;241m1\u001b[39m])\n\u001b[0;32m---> 15\u001b[0m idxs \u001b[38;5;241m=\u001b[39m \u001b[43mtorch\u001b[49m\u001b[38;5;241;43m.\u001b[39;49m\u001b[43mtriu_indices\u001b[49m\u001b[43m(\u001b[49m\u001b[43mnum_nodes\u001b[49m\u001b[43m,\u001b[49m\u001b[43m \u001b[49m\u001b[43mnum_nodes\u001b[49m\u001b[43m,\u001b[49m\u001b[43m \u001b[49m\u001b[43moffset\u001b[49m\u001b[38;5;241;43m=\u001b[39;49m\u001b[38;5;241;43m1\u001b[39;49m\u001b[43m,\u001b[49m\u001b[43m \u001b[49m\u001b[43mdevice\u001b[49m\u001b[38;5;241;43m=\u001b[39;49m\u001b[43mvec\u001b[49m\u001b[38;5;241;43m.\u001b[39;49m\u001b[43mdevice\u001b[49m\u001b[43m)\u001b[49m\n\u001b[1;32m     16\u001b[0m output \u001b[38;5;241m=\u001b[39m torch\u001b[38;5;241m.\u001b[39mzeros(vec\u001b[38;5;241m.\u001b[39mshape[:\u001b[38;5;241m-\u001b[39m\u001b[38;5;241m1\u001b[39m] \u001b[38;5;241m+\u001b[39m (num_nodes, num_nodes), device\u001b[38;5;241m=\u001b[39mvec\u001b[38;5;241m.\u001b[39mdevice)\n\u001b[1;32m     17\u001b[0m output[\u001b[38;5;241m.\u001b[39m\u001b[38;5;241m.\u001b[39m\u001b[38;5;241m.\u001b[39m, idxs[\u001b[38;5;241m0\u001b[39m, :], idxs[\u001b[38;5;241m1\u001b[39m, :]] \u001b[38;5;241m=\u001b[39m vec\n",
      "\u001b[0;31mNotImplementedError\u001b[0m: The operator 'aten::triu_indices' is not currently implemented for the MPS device. If you want this op to be added in priority during the prototype phase of this feature, please comment on https://github.com/pytorch/pytorch/issues/77764. As a temporary fix, you can set the environment variable `PYTORCH_ENABLE_MPS_FALLBACK=1` to use the CPU as a fallback for this op. WARNING: this will be slower than running natively on MPS."
     ]
    }
   ],
   "source": [
    "assert len(dataset_train.batch_size) == 1, \"Only 1D batch size is supported\"\n",
    "\n",
    "num_samples = len(dataset_train)\n",
    "\n",
    "for epoch in range(training_config.max_epoch):\n",
    "    \n",
    "    for i, batch in enumerate(dataloader_train):\n",
    "        \n",
    "        # Zero the gradients\n",
    "        optimizer.zero_grad()\n",
    "        \n",
    "        # Get SEM \n",
    "        sem_distribution = sem_module()\n",
    "        sem, *_ = sem_distribution.relaxed_sample(\n",
    "            torch.Size([]), \n",
    "            temperature=training_config.gumbel_temp\n",
    "        )  # soft sample\n",
    "        \n",
    "        # Compute the log probability of data\n",
    "        batch_log_prob = sem.log_prob(batch).mean()\n",
    "        \n",
    "        # Get the distribution entropy\n",
    "        sem_distribution_entropy = sem_distribution.entropy()\n",
    "        \n",
    "        # Compute the likelihood of the current graph\n",
    "        prior_term = prior.log_prob(sem.graph)\n",
    "        \n",
    "        # Compute the objective\n",
    "        objective = (-sem_distribution_entropy - prior_term) / num_samples - batch_log_prob\n",
    "        \n",
    "        # Compute the DAG-ness term\n",
    "        constraint = calculate_dagness(sem.graph)\n",
    "        \n",
    "        # Compute the Lagrangian loss\n",
    "        loss = auglag_loss(objective, constraint / num_samples)\n",
    "\n",
    "        # Propagate gradients and update\n",
    "        loss.backward()\n",
    "        optimizer.step()\n",
    "        \n",
    "        # Update the Auglag parameters\n",
    "        scheduler.step(\n",
    "            optimizer=optimizer,\n",
    "            loss=auglag_loss,\n",
    "            loss_value=loss.item(),\n",
    "            lagrangian_penalty=constraint.item(),\n",
    "        )\n",
    "        \n",
    "        # Log metrics & plot the matrices\n",
    "        if epoch % 10 == 0 and i == 0:\n",
    "            print(\n",
    "                f\"epoch:{epoch} loss:{loss.item():.5g} nll:{-batch_log_prob.detach().cpu().numpy():.5g} \"\n",
    "                f\"dagness:{constraint.item():.5f} num_edges:{(sem.graph > 0.0).sum()} \"\n",
    "                f\"alpha:{auglag_loss.alpha:.5g} rho:{auglag_loss.rho:.5g} \"\n",
    "                f\"step:{scheduler.outer_opt_counter}|{scheduler.step_counter} \"\n",
    "                f\"num_lr_updates:{scheduler.num_lr_updates}\"\n",
    "            )\n",
    "            \n",
    "            vardist = adjacency_dist()\n",
    "            pred_dag = vardist.mode.cpu().numpy()\n",
    "\n",
    "            plt.style.use('default')\n",
    "\n",
    "            GraphDAG(\n",
    "                est_dag=pred_dag, \n",
    "                true_dag=adj_matrix)\n",
    "\n",
    "            plt.show()"
   ]
  },
  {
   "cell_type": "code",
   "execution_count": 21,
   "metadata": {},
   "outputs": [
    {
     "ename": "NotImplementedError",
     "evalue": "The operator 'aten::triu_indices' is not currently implemented for the MPS device. If you want this op to be added in priority during the prototype phase of this feature, please comment on https://github.com/pytorch/pytorch/issues/77764. As a temporary fix, you can set the environment variable `PYTORCH_ENABLE_MPS_FALLBACK=1` to use the CPU as a fallback for this op. WARNING: this will be slower than running natively on MPS.",
     "output_type": "error",
     "traceback": [
      "\u001b[0;31m---------------------------------------------------------------------------\u001b[0m",
      "\u001b[0;31mNotImplementedError\u001b[0m                       Traceback (most recent call last)",
      "Cell \u001b[0;32mIn[21], line 3\u001b[0m\n\u001b[1;32m      1\u001b[0m \u001b[38;5;66;03m# Sample from the distribution of graphs\u001b[39;00m\n\u001b[1;32m      2\u001b[0m vardist \u001b[38;5;241m=\u001b[39m adjacency_dist()\n\u001b[0;32m----> 3\u001b[0m pred_dag \u001b[38;5;241m=\u001b[39m \u001b[43mvardist\u001b[49m\u001b[38;5;241;43m.\u001b[39;49m\u001b[43mmode\u001b[49m\u001b[38;5;241m.\u001b[39mcpu()\u001b[38;5;241m.\u001b[39mnumpy()\n\u001b[1;32m      6\u001b[0m \u001b[38;5;66;03m# Plot the final graph vs the ground truth\u001b[39;00m\n\u001b[1;32m      7\u001b[0m plt\u001b[38;5;241m.\u001b[39mstyle\u001b[38;5;241m.\u001b[39muse(\u001b[38;5;124m'\u001b[39m\u001b[38;5;124mdefault\u001b[39m\u001b[38;5;124m'\u001b[39m)\n",
      "File \u001b[0;32m~/anaconda3/envs/causal_book_py39/lib/python3.9/site-packages/causica/distributions/adjacency/enco.py:146\u001b[0m, in \u001b[0;36mENCOAdjacencyDistribution.mode\u001b[0;34m(self)\u001b[0m\n\u001b[1;32m    136\u001b[0m \u001b[38;5;129m@property\u001b[39m\n\u001b[1;32m    137\u001b[0m \u001b[38;5;28;01mdef\u001b[39;00m \u001b[38;5;21mmode\u001b[39m(\u001b[38;5;28mself\u001b[39m) \u001b[38;5;241m-\u001b[39m\u001b[38;5;241m>\u001b[39m torch\u001b[38;5;241m.\u001b[39mTensor:\n\u001b[1;32m    138\u001b[0m \u001b[38;5;250m    \u001b[39m\u001b[38;5;124;03m\"\"\"\u001b[39;00m\n\u001b[1;32m    139\u001b[0m \u001b[38;5;124;03m    Return the mode of the underlying independent Bernoulli distribution.\u001b[39;00m\n\u001b[1;32m    140\u001b[0m \n\u001b[0;32m   (...)\u001b[0m\n\u001b[1;32m    144\u001b[0m \u001b[38;5;124;03m        A tensor of shape batch_shape + (num_nodes, num_nodes)\u001b[39;00m\n\u001b[1;32m    145\u001b[0m \u001b[38;5;124;03m    \"\"\"\u001b[39;00m\n\u001b[0;32m--> 146\u001b[0m     logits \u001b[38;5;241m=\u001b[39m \u001b[38;5;28;43mself\u001b[39;49m\u001b[38;5;241;43m.\u001b[39;49m\u001b[43m_get_independent_bernoulli_logits\u001b[49m\u001b[43m(\u001b[49m\u001b[43m)\u001b[49m\n\u001b[1;32m    147\u001b[0m     \u001b[38;5;28;01mreturn\u001b[39;00m \u001b[38;5;28mself\u001b[39m\u001b[38;5;241m.\u001b[39mbase_dist(logits)\u001b[38;5;241m.\u001b[39mmode \u001b[38;5;241m*\u001b[39m (\u001b[38;5;241m1.0\u001b[39m \u001b[38;5;241m-\u001b[39m torch\u001b[38;5;241m.\u001b[39meye(\u001b[38;5;28mself\u001b[39m\u001b[38;5;241m.\u001b[39mnum_nodes, device\u001b[38;5;241m=\u001b[39mlogits\u001b[38;5;241m.\u001b[39mdevice))\n",
      "File \u001b[0;32m~/anaconda3/envs/causal_book_py39/lib/python3.9/site-packages/causica/distributions/adjacency/enco.py:72\u001b[0m, in \u001b[0;36mENCOAdjacencyDistribution._get_independent_bernoulli_logits\u001b[0;34m(self)\u001b[0m\n\u001b[1;32m     60\u001b[0m \u001b[38;5;250m\u001b[39m\u001b[38;5;124;03m\"\"\"\u001b[39;00m\n\u001b[1;32m     61\u001b[0m \u001b[38;5;124;03mConstruct the matrix logit(pᵢⱼ).\u001b[39;00m\n\u001b[1;32m     62\u001b[0m \n\u001b[0;32m   (...)\u001b[0m\n\u001b[1;32m     69\u001b[0m \u001b[38;5;124;03m               = - logsumexp([-γᵢⱼ, -θᵢⱼ, -θᵢⱼ - γᵢⱼ])\u001b[39;00m\n\u001b[1;32m     70\u001b[0m \u001b[38;5;124;03m\"\"\"\u001b[39;00m\n\u001b[1;32m     71\u001b[0m \u001b[38;5;66;03m# (..., num_nodes, num_nodes)\u001b[39;00m\n\u001b[0;32m---> 72\u001b[0m neg_theta \u001b[38;5;241m=\u001b[39m \u001b[43mfill_triangular\u001b[49m\u001b[43m(\u001b[49m\u001b[38;5;28;43mself\u001b[39;49m\u001b[38;5;241;43m.\u001b[39;49m\u001b[43mlogits_orient\u001b[49m\u001b[43m,\u001b[49m\u001b[43m \u001b[49m\u001b[43mupper\u001b[49m\u001b[38;5;241;43m=\u001b[39;49m\u001b[38;5;28;43;01mTrue\u001b[39;49;00m\u001b[43m)\u001b[49m \u001b[38;5;241m-\u001b[39m fill_triangular(\u001b[38;5;28mself\u001b[39m\u001b[38;5;241m.\u001b[39mlogits_orient, upper\u001b[38;5;241m=\u001b[39m\u001b[38;5;28;01mFalse\u001b[39;00m)\n\u001b[1;32m     73\u001b[0m \u001b[38;5;28;01mreturn\u001b[39;00m \u001b[38;5;241m-\u001b[39mtorch\u001b[38;5;241m.\u001b[39mlogsumexp(\n\u001b[1;32m     74\u001b[0m     torch\u001b[38;5;241m.\u001b[39mstack([\u001b[38;5;241m-\u001b[39m\u001b[38;5;28mself\u001b[39m\u001b[38;5;241m.\u001b[39mlogits_exist, neg_theta, neg_theta \u001b[38;5;241m-\u001b[39m \u001b[38;5;28mself\u001b[39m\u001b[38;5;241m.\u001b[39mlogits_exist], dim\u001b[38;5;241m=\u001b[39m\u001b[38;5;241m-\u001b[39m\u001b[38;5;241m1\u001b[39m), dim\u001b[38;5;241m=\u001b[39m\u001b[38;5;241m-\u001b[39m\u001b[38;5;241m1\u001b[39m\n\u001b[1;32m     75\u001b[0m )\n",
      "File \u001b[0;32m~/anaconda3/envs/causal_book_py39/lib/python3.9/site-packages/causica/triangular_transformations.py:15\u001b[0m, in \u001b[0;36mfill_triangular\u001b[0;34m(vec, upper)\u001b[0m\n\u001b[1;32m      6\u001b[0m \u001b[38;5;250m\u001b[39m\u001b[38;5;124;03m\"\"\"\u001b[39;00m\n\u001b[1;32m      7\u001b[0m \u001b[38;5;124;03mArgs:\u001b[39;00m\n\u001b[1;32m      8\u001b[0m \u001b[38;5;124;03m    vec: A tensor of shape (..., n(n-1)/2)\u001b[39;00m\n\u001b[0;32m   (...)\u001b[0m\n\u001b[1;32m     12\u001b[0m \u001b[38;5;124;03m    with zeros elsewhere\u001b[39;00m\n\u001b[1;32m     13\u001b[0m \u001b[38;5;124;03m\"\"\"\u001b[39;00m\n\u001b[1;32m     14\u001b[0m num_nodes \u001b[38;5;241m=\u001b[39m num_lower_tri_elements_to_n(vec\u001b[38;5;241m.\u001b[39mshape[\u001b[38;5;241m-\u001b[39m\u001b[38;5;241m1\u001b[39m])\n\u001b[0;32m---> 15\u001b[0m idxs \u001b[38;5;241m=\u001b[39m \u001b[43mtorch\u001b[49m\u001b[38;5;241;43m.\u001b[39;49m\u001b[43mtriu_indices\u001b[49m\u001b[43m(\u001b[49m\u001b[43mnum_nodes\u001b[49m\u001b[43m,\u001b[49m\u001b[43m \u001b[49m\u001b[43mnum_nodes\u001b[49m\u001b[43m,\u001b[49m\u001b[43m \u001b[49m\u001b[43moffset\u001b[49m\u001b[38;5;241;43m=\u001b[39;49m\u001b[38;5;241;43m1\u001b[39;49m\u001b[43m,\u001b[49m\u001b[43m \u001b[49m\u001b[43mdevice\u001b[49m\u001b[38;5;241;43m=\u001b[39;49m\u001b[43mvec\u001b[49m\u001b[38;5;241;43m.\u001b[39;49m\u001b[43mdevice\u001b[49m\u001b[43m)\u001b[49m\n\u001b[1;32m     16\u001b[0m output \u001b[38;5;241m=\u001b[39m torch\u001b[38;5;241m.\u001b[39mzeros(vec\u001b[38;5;241m.\u001b[39mshape[:\u001b[38;5;241m-\u001b[39m\u001b[38;5;241m1\u001b[39m] \u001b[38;5;241m+\u001b[39m (num_nodes, num_nodes), device\u001b[38;5;241m=\u001b[39mvec\u001b[38;5;241m.\u001b[39mdevice)\n\u001b[1;32m     17\u001b[0m output[\u001b[38;5;241m.\u001b[39m\u001b[38;5;241m.\u001b[39m\u001b[38;5;241m.\u001b[39m, idxs[\u001b[38;5;241m0\u001b[39m, :], idxs[\u001b[38;5;241m1\u001b[39m, :]] \u001b[38;5;241m=\u001b[39m vec\n",
      "\u001b[0;31mNotImplementedError\u001b[0m: The operator 'aten::triu_indices' is not currently implemented for the MPS device. If you want this op to be added in priority during the prototype phase of this feature, please comment on https://github.com/pytorch/pytorch/issues/77764. As a temporary fix, you can set the environment variable `PYTORCH_ENABLE_MPS_FALLBACK=1` to use the CPU as a fallback for this op. WARNING: this will be slower than running natively on MPS."
     ]
    }
   ],
   "source": [
    "# Sample from the distribution of graphs\n",
    "vardist = adjacency_dist()\n",
    "pred_dag = vardist.mode.cpu().numpy()\n",
    "\n",
    "\n",
    "# Plot the final graph vs the ground truth\n",
    "plt.style.use('default')\n",
    "\n",
    "GraphDAG(\n",
    "    est_dag=pred_dag, \n",
    "    true_dag=adj_matrix)\n",
    "\n",
    "plt.show()"
   ]
  },
  {
   "cell_type": "code",
   "execution_count": 22,
   "metadata": {},
   "outputs": [
    {
     "ename": "NameError",
     "evalue": "name 'pred_dag' is not defined",
     "output_type": "error",
     "traceback": [
      "\u001b[0;31m---------------------------------------------------------------------------\u001b[0m",
      "\u001b[0;31mNameError\u001b[0m                                 Traceback (most recent call last)",
      "Cell \u001b[0;32mIn[22], line 3\u001b[0m\n\u001b[1;32m      1\u001b[0m \u001b[38;5;66;03m# Compute and print the metrics\u001b[39;00m\n\u001b[1;32m      2\u001b[0m metrics \u001b[38;5;241m=\u001b[39m MetricsDAG(\n\u001b[0;32m----> 3\u001b[0m     B_est\u001b[38;5;241m=\u001b[39m\u001b[43mpred_dag\u001b[49m, \n\u001b[1;32m      4\u001b[0m     B_true\u001b[38;5;241m=\u001b[39madj_matrix)\n\u001b[1;32m      6\u001b[0m metrics\u001b[38;5;241m.\u001b[39mmetrics\n",
      "\u001b[0;31mNameError\u001b[0m: name 'pred_dag' is not defined"
     ]
    }
   ],
   "source": [
    "# Compute and print the metrics\n",
    "metrics = MetricsDAG(\n",
    "    B_est=pred_dag, \n",
    "    B_true=adj_matrix)\n",
    "\n",
    "metrics.metrics"
   ]
  },
  {
   "cell_type": "markdown",
   "metadata": {},
   "source": [
    "## Causal discovery under hidden confounding"
   ]
  },
  {
   "cell_type": "code",
   "execution_count": 24,
   "metadata": {},
   "outputs": [],
   "source": [
    "from causallearn.search.ConstraintBased.FCI import fci\n",
    "from causallearn.graph.GraphNode import GraphNode\n",
    "from causallearn.utils.PCUtils.BackgroundKnowledge import BackgroundKnowledge"
   ]
  },
  {
   "cell_type": "markdown",
   "metadata": {},
   "source": [
    "### Data"
   ]
  },
  {
   "cell_type": "code",
   "execution_count": 25,
   "metadata": {},
   "outputs": [],
   "source": [
    "# Generate confounded data\n",
    "N = 1000\n",
    "\n",
    "q = np.random.uniform(0, 2, N)\n",
    "w = np.random.randn(N)\n",
    "x = np.random.gumbel(0, 1, N) + w\n",
    "y = 0.6 * q + 0.8 * w + np.random.uniform(0, 1, N)\n",
    "z = 0.5 * x + np.random.randn(N)\n",
    "\n",
    "\n",
    "data = np.stack([x, y, w, z, q]).T\n",
    "confounded_data = np.stack([x, y, z, q]).T"
   ]
  },
  {
   "cell_type": "code",
   "execution_count": 26,
   "metadata": {},
   "outputs": [],
   "source": [
    "# Create the true graph\n",
    "nodes = ['X', 'Y', 'W', 'Z', 'Q']\n",
    "\n",
    "edges = [\n",
    "    ('W', 'X'),\n",
    "    ('W', 'Y'),\n",
    "    ('Q', 'Y'),\n",
    "    ('X', 'Z'),\n",
    "]\n",
    "\n",
    "fci_graph = nx.DiGraph()\n",
    "\n",
    "fci_graph.add_nodes_from(nodes)\n",
    "fci_graph.add_edges_from(edges)"
   ]
  },
  {
   "cell_type": "code",
   "execution_count": 27,
   "metadata": {},
   "outputs": [
    {
     "data": {
      "image/png": "[encoded data removed]",
      "text/plain": [
       "<Figure size 400x300 with 1 Axes>"
      ]
     },
     "metadata": {},
     "output_type": "display_data"
    }
   ],
   "source": [
    "# Plot the graph\n",
    "plt.figure(figsize=(4, 3))\n",
    "\n",
    "nx.draw(\n",
    "    G=fci_graph,\n",
    "    node_color=COLORS[0],\n",
    "    node_size=1200,\n",
    "    nodelist=['X', 'Y', 'Z', 'Q'],\n",
    "    arrowsize=17,\n",
    "    with_labels=True,\n",
    "    font_color='white',\n",
    "    font_size=21,\n",
    "    pos=nx.circular_layout(fci_graph)\n",
    ")\n",
    "nx.draw(\n",
    "    G=fci_graph,\n",
    "    node_color=COLORS[1],\n",
    "    node_size=1200,\n",
    "    nodelist=['W'],\n",
    "    arrowsize=17,\n",
    "    with_labels=True,\n",
    "    font_color='white',\n",
    "    font_size=21,\n",
    "    pos=nx.circular_layout(fci_graph)\n",
    ")"
   ]
  },
  {
   "cell_type": "markdown",
   "metadata": {},
   "source": [
    "### Model "
   ]
  },
  {
   "cell_type": "code",
   "execution_count": 28,
   "metadata": {},
   "outputs": [
    {
     "name": "stderr",
     "output_type": "stream",
     "text": [
      "Depth=0, working on node 0:  25%|██▌       | 1/4 [00:00<00:00, 2557.50it/s]"
     ]
    },
    {
     "name": "stderr",
     "output_type": "stream",
     "text": [
      "Depth=1, working on node 3: 100%|██████████| 4/4 [00:09<00:00,  2.29s/it]  \n"
     ]
    }
   ],
   "source": [
    "# Train FCI and get the graph\n",
    "g, edges = fci(\n",
    "    dataset=confounded_data, \n",
    "    independence_test_method='kci'\n",
    ")"
   ]
  },
  {
   "cell_type": "code",
   "execution_count": 29,
   "metadata": {},
   "outputs": [
    {
     "data": {
      "text/plain": [
       "array([[0, 2, 2, 0],\n",
       "       [1, 0, 0, 1],\n",
       "       [2, 0, 0, 0],\n",
       "       [0, 2, 0, 0]])"
      ]
     },
     "execution_count": 29,
     "metadata": {},
     "output_type": "execute_result"
    }
   ],
   "source": [
    "# Ordering: [x, y, z, q]\n",
    "g.graph"
   ]
  },
  {
   "cell_type": "code",
   "execution_count": 30,
   "metadata": {},
   "outputs": [
    {
     "name": "stdout",
     "output_type": "stream",
     "text": [
      "X o-> Y\n",
      "X o-o Z\n",
      "Q o-> Y\n"
     ]
    }
   ],
   "source": [
    "mapping = {\n",
    "    'X1': 'X',\n",
    "    'X2': 'Y',\n",
    "    'X3': 'Z',\n",
    "    'X4': 'Q'\n",
    "}\n",
    "\n",
    "for edge in edges:\n",
    "    mapped = str(edge)\\\n",
    "        .replace(str(edge.node1), mapping[str(edge.node1)])\\\n",
    "        .replace(str(edge.node2), mapping[str(edge.node2)])\n",
    "    print(mapped)"
   ]
  },
  {
   "cell_type": "code",
   "execution_count": 31,
   "metadata": {},
   "outputs": [
    {
     "data": {
      "text/plain": [
       "('X4 o-> X2', 'X4')"
      ]
     },
     "execution_count": 31,
     "metadata": {},
     "output_type": "execute_result"
    }
   ],
   "source": [
    "str(edge), str(edge.node1)"
   ]
  },
  {
   "cell_type": "markdown",
   "metadata": {},
   "source": [
    "### Model with prior knowledge"
   ]
  },
  {
   "cell_type": "code",
   "execution_count": 32,
   "metadata": {},
   "outputs": [
    {
     "name": "stderr",
     "output_type": "stream",
     "text": [
      "Depth=1, working on node 3: 100%|██████████| 4/4 [00:00<00:00, 1211.35it/s]"
     ]
    },
    {
     "name": "stdout",
     "output_type": "stream",
     "text": [
      "Starting BK Orientation.\n",
      "Orienting edge (Knowledge): X1 --> X3\n",
      "Orienting edge (Knowledge): X4 --> X2\n",
      "Finishing BK Orientation.\n",
      "Starting BK Orientation.\n",
      "Orienting edge (Knowledge): X1 --> X3\n",
      "Orienting edge (Knowledge): X4 --> X2\n",
      "Finishing BK Orientation.\n"
     ]
    },
    {
     "name": "stderr",
     "output_type": "stream",
     "text": [
      "\n"
     ]
    }
   ],
   "source": [
    "# Add prior knowledge\n",
    "prior_knowledge = BackgroundKnowledge()\n",
    "prior_knowledge.add_forbidden_by_node(GraphNode('X2'), GraphNode('X4'))\n",
    "prior_knowledge.add_required_by_node(GraphNode('X1'), GraphNode('X3'))\n",
    "\n",
    "g, edges = fci(\n",
    "    dataset=confounded_data, \n",
    "    independence_test_method='fisherz',\n",
    "    background_knowledge=prior_knowledge\n",
    ")"
   ]
  },
  {
   "cell_type": "code",
   "execution_count": 33,
   "metadata": {},
   "outputs": [
    {
     "name": "stdout",
     "output_type": "stream",
     "text": [
      "X o-> Y\n",
      "X --> Z\n",
      "Q --> Y\n"
     ]
    }
   ],
   "source": [
    "for edge in edges:\n",
    "    mapped = str(edge)\\\n",
    "        .replace(str(edge.node1), mapping[str(edge.node1)])\\\n",
    "        .replace(str(edge.node2), mapping[str(edge.node2)])\n",
    "    print(mapped)"
   ]
  },
  {
   "cell_type": "code",
   "execution_count": null,
   "metadata": {},
   "outputs": [],
   "source": []
  }
 ],
 "metadata": {
  "kernelspec": {
   "display_name": "causal_book_py39",
   "language": "python",
   "name": "python3"
  },
  "language_info": {
   "codemirror_mode": {
    "name": "ipython",
    "version": 3
   },
   "file_extension": ".py",
   "mimetype": "text/x-python",
   "name": "python",
   "nbconvert_exporter": "python",
   "pygments_lexer": "ipython3",
   "version": "3.9.18"
  }
 },
 "nbformat": 4,
 "nbformat_minor": 4
}
