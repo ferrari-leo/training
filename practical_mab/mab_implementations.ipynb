{
  "nbformat": 4,
  "nbformat_minor": 0,
  "metadata": {
    "colab": {
      "provenance": [],
      "authorship_tag": "ABX9TyNlxtJOTRECRL181LE8Ttnf",
      "include_colab_link": true
    },
    "kernelspec": {
      "name": "python3",
      "display_name": "Python 3"
    },
    "language_info": {
      "name": "python"
    }
  },
  "cells": [
    {
      "cell_type": "markdown",
      "metadata": {
        "id": "view-in-github",
        "colab_type": "text"
      },
      "source": [
        "<a href=\"https://colab.research.google.com/github/ferrari-leo/training/blob/main/practical_mab/mab_implementations.ipynb\" target=\"_parent\"><img src=\"https://colab.research.google.com/assets/colab-badge.svg\" alt=\"Open In Colab\"/></a>"
      ]
    },
    {
      "cell_type": "code",
      "execution_count": 1,
      "metadata": {
        "id": "QUCdjSGegIxr"
      },
      "outputs": [],
      "source": [
        "import numpy as np"
      ]
    },
    {
      "cell_type": "code",
      "source": [
        "class Environment(object):\n",
        "  def __init__(self, reward_probabilities, actual_rewards):\n",
        "    if len(reward_probabilities) != len(actual_rewards):\n",
        "      raise Exception(f'size of reward probabilities {len(reward_probabilities)} does not match size of actual rewards {len(actual_rewards)}')\n",
        "\n",
        "    self.reward_probabilities = reward_probabilities\n",
        "    self.actual_rewards = actual_rewards\n",
        "    self.k_arms = len(actual_rewards)\n",
        "\n",
        "  def choose_arm(self, arm):\n",
        "    if arm < 0 or arm >= self.k_arms:\n",
        "      raise Exception(f'arm must be between 0 and {self.k_arms - 1}')\n",
        "\n",
        "    return self.actual_rewards[arm] if np.random.random() < self.reward_probabilities[arm] else 0.0"
      ],
      "metadata": {
        "id": "8cNixRIBb0c5"
      },
      "execution_count": 2,
      "outputs": []
    },
    {
      "cell_type": "code",
      "source": [
        "env = Environment(\n",
        "    reward_probabilities=[0.62, 0.05, 0.87, 0.49],\n",
        "    actual_rewards=[1.0, 1.0, 1.0, 1.0]\n",
        ")"
      ],
      "metadata": {
        "id": "315Cm1gec377"
      },
      "execution_count": 3,
      "outputs": []
    },
    {
      "cell_type": "code",
      "source": [
        "[env.choose_arm(1) for _ in range(10)]"
      ],
      "metadata": {
        "id": "xUdcsTcodExp",
        "outputId": "c5265e8e-7b62-4ef9-b117-30c6c2310c5a",
        "colab": {
          "base_uri": "https://localhost:8080/"
        }
      },
      "execution_count": 4,
      "outputs": [
        {
          "output_type": "execute_result",
          "data": {
            "text/plain": [
              "[0.0, 0.0, 0.0, 0.0, 0.0, 0.0, 0.0, 0.0, 0.0, 0.0]"
            ]
          },
          "metadata": {},
          "execution_count": 4
        }
      ]
    },
    {
      "cell_type": "code",
      "source": [],
      "metadata": {
        "id": "8fOwex-LdIK0"
      },
      "execution_count": null,
      "outputs": []
    }
  ]
}