{
  "nbformat": 4,
  "nbformat_minor": 0,
  "metadata": {
    "colab": {
      "provenance": [],
      "authorship_tag": "ABX9TyNxisZaIbBmLULPodI+9yNp",
      "include_colab_link": true
    },
    "kernelspec": {
      "name": "python3",
      "display_name": "Python 3"
    },
    "language_info": {
      "name": "python"
    }
  },
  "cells": [
    {
      "cell_type": "markdown",
      "metadata": {
        "id": "view-in-github",
        "colab_type": "text"
      },
      "source": [
        "<a href=\"https://colab.research.google.com/github/ferrari-leo/training/blob/main/nlp_with_python/06_deep_learning/00_keras_basics.ipynb\" target=\"_parent\"><img src=\"https://colab.research.google.com/assets/colab-badge.svg\" alt=\"Open In Colab\"/></a>"
      ]
    },
    {
      "cell_type": "code",
      "execution_count": 25,
      "metadata": {
        "id": "QoMwJnFEDSW6"
      },
      "outputs": [],
      "source": [
        "import pandas as pd\n",
        "from sklearn.datasets import load_iris\n",
        "from sklearn.model_selection import train_test_split\n",
        "from sklearn.preprocessing import MinMaxScaler\n",
        "from sklearn.metrics import confusion_matrix, classification_report\n",
        "from keras.utils import to_categorical\n",
        "from keras.models import Sequential, load_model\n",
        "from keras.layers import Dense\n"
      ]
    },
    {
      "cell_type": "code",
      "source": [
        "iris = load_iris()\n",
        "X = iris.data\n",
        "y = iris.target"
      ],
      "metadata": {
        "id": "_VLdxnh8F3Iu"
      },
      "execution_count": 4,
      "outputs": []
    },
    {
      "cell_type": "code",
      "source": [
        "y = to_categorical(y)"
      ],
      "metadata": {
        "id": "SrShSGmmGDva"
      },
      "execution_count": 5,
      "outputs": []
    },
    {
      "cell_type": "code",
      "source": [
        "X_train, X_test, y_train, y_test = train_test_split(X, y, test_size=0.33, random_state=42)"
      ],
      "metadata": {
        "id": "vU5Mmp1KGHUi"
      },
      "execution_count": 8,
      "outputs": []
    },
    {
      "cell_type": "code",
      "source": [
        "scaler_object = MinMaxScaler()\n",
        "scaler_object.fit(X_train)\n",
        "scaled_X_train = scaler_object.transform(X_train)\n",
        "scaled_X_test = scaler_object.transform(X_test)"
      ],
      "metadata": {
        "id": "NyCHRGnmGIGO"
      },
      "execution_count": 10,
      "outputs": []
    },
    {
      "cell_type": "code",
      "source": [
        "model = Sequential()\n",
        "model.add(Dense(8, input_dim = 4, activation = 'relu'))\n",
        "model.add(Dense(8, input_dim = 4, activation = 'relu'))\n",
        "model.add(Dense(3, activation = 'softmax'))\n",
        "model.compile(loss = 'categorical_crossentropy', optimizer = 'adam', metrics = ['accuracy'])"
      ],
      "metadata": {
        "id": "oPiehE-vG-QP"
      },
      "execution_count": 12,
      "outputs": []
    },
    {
      "cell_type": "code",
      "source": [
        "model.summary()"
      ],
      "metadata": {
        "colab": {
          "base_uri": "https://localhost:8080/"
        },
        "id": "Jim7-W1eH0-V",
        "outputId": "a8c6e34f-c279-4371-bb02-adf848a521c2"
      },
      "execution_count": 13,
      "outputs": [
        {
          "output_type": "stream",
          "name": "stdout",
          "text": [
            "Model: \"sequential\"\n",
            "_________________________________________________________________\n",
            " Layer (type)                Output Shape              Param #   \n",
            "=================================================================\n",
            " dense (Dense)               (None, 8)                 40        \n",
            "                                                                 \n",
            " dense_1 (Dense)             (None, 8)                 72        \n",
            "                                                                 \n",
            " dense_2 (Dense)             (None, 3)                 27        \n",
            "                                                                 \n",
            "=================================================================\n",
            "Total params: 139 (556.00 Byte)\n",
            "Trainable params: 139 (556.00 Byte)\n",
            "Non-trainable params: 0 (0.00 Byte)\n",
            "_________________________________________________________________\n"
          ]
        }
      ]
    },
    {
      "cell_type": "code",
      "source": [
        "model.fit(scaled_X_train, y_train, epochs = 150, verbose = 2)"
      ],
      "metadata": {
        "colab": {
          "base_uri": "https://localhost:8080/"
        },
        "id": "kzS_BiFgH16L",
        "outputId": "e0ae1d55-0fff-43f6-ea13-8f447ca2cdce"
      },
      "execution_count": 14,
      "outputs": [
        {
          "output_type": "stream",
          "name": "stdout",
          "text": [
            "Epoch 1/150\n",
            "4/4 - 1s - loss: 1.0693 - accuracy: 0.3400 - 818ms/epoch - 204ms/step\n",
            "Epoch 2/150\n",
            "4/4 - 0s - loss: 1.0623 - accuracy: 0.3400 - 9ms/epoch - 2ms/step\n",
            "Epoch 3/150\n",
            "4/4 - 0s - loss: 1.0556 - accuracy: 0.3400 - 9ms/epoch - 2ms/step\n",
            "Epoch 4/150\n",
            "4/4 - 0s - loss: 1.0496 - accuracy: 0.3400 - 8ms/epoch - 2ms/step\n",
            "Epoch 5/150\n",
            "4/4 - 0s - loss: 1.0429 - accuracy: 0.3600 - 10ms/epoch - 3ms/step\n",
            "Epoch 6/150\n",
            "4/4 - 0s - loss: 1.0364 - accuracy: 0.3600 - 9ms/epoch - 2ms/step\n",
            "Epoch 7/150\n",
            "4/4 - 0s - loss: 1.0299 - accuracy: 0.3600 - 12ms/epoch - 3ms/step\n",
            "Epoch 8/150\n",
            "4/4 - 0s - loss: 1.0231 - accuracy: 0.3700 - 10ms/epoch - 2ms/step\n",
            "Epoch 9/150\n",
            "4/4 - 0s - loss: 1.0162 - accuracy: 0.3900 - 10ms/epoch - 2ms/step\n",
            "Epoch 10/150\n",
            "4/4 - 0s - loss: 1.0090 - accuracy: 0.4400 - 9ms/epoch - 2ms/step\n",
            "Epoch 11/150\n",
            "4/4 - 0s - loss: 1.0012 - accuracy: 0.5000 - 10ms/epoch - 2ms/step\n",
            "Epoch 12/150\n",
            "4/4 - 0s - loss: 0.9927 - accuracy: 0.5700 - 11ms/epoch - 3ms/step\n",
            "Epoch 13/150\n",
            "4/4 - 0s - loss: 0.9849 - accuracy: 0.6000 - 10ms/epoch - 3ms/step\n",
            "Epoch 14/150\n",
            "4/4 - 0s - loss: 0.9782 - accuracy: 0.6000 - 9ms/epoch - 2ms/step\n",
            "Epoch 15/150\n",
            "4/4 - 0s - loss: 0.9712 - accuracy: 0.6300 - 15ms/epoch - 4ms/step\n",
            "Epoch 16/150\n",
            "4/4 - 0s - loss: 0.9642 - accuracy: 0.6500 - 11ms/epoch - 3ms/step\n",
            "Epoch 17/150\n",
            "4/4 - 0s - loss: 0.9572 - accuracy: 0.6500 - 10ms/epoch - 3ms/step\n",
            "Epoch 18/150\n",
            "4/4 - 0s - loss: 0.9501 - accuracy: 0.6500 - 10ms/epoch - 3ms/step\n",
            "Epoch 19/150\n",
            "4/4 - 0s - loss: 0.9432 - accuracy: 0.6500 - 17ms/epoch - 4ms/step\n",
            "Epoch 20/150\n",
            "4/4 - 0s - loss: 0.9357 - accuracy: 0.6500 - 14ms/epoch - 4ms/step\n",
            "Epoch 21/150\n",
            "4/4 - 0s - loss: 0.9284 - accuracy: 0.6500 - 10ms/epoch - 3ms/step\n",
            "Epoch 22/150\n",
            "4/4 - 0s - loss: 0.9208 - accuracy: 0.6500 - 10ms/epoch - 3ms/step\n",
            "Epoch 23/150\n",
            "4/4 - 0s - loss: 0.9139 - accuracy: 0.6500 - 10ms/epoch - 2ms/step\n",
            "Epoch 24/150\n",
            "4/4 - 0s - loss: 0.9061 - accuracy: 0.6500 - 11ms/epoch - 3ms/step\n",
            "Epoch 25/150\n",
            "4/4 - 0s - loss: 0.8990 - accuracy: 0.6500 - 11ms/epoch - 3ms/step\n",
            "Epoch 26/150\n",
            "4/4 - 0s - loss: 0.8922 - accuracy: 0.6500 - 10ms/epoch - 2ms/step\n",
            "Epoch 27/150\n",
            "4/4 - 0s - loss: 0.8860 - accuracy: 0.6500 - 10ms/epoch - 3ms/step\n",
            "Epoch 28/150\n",
            "4/4 - 0s - loss: 0.8799 - accuracy: 0.6500 - 11ms/epoch - 3ms/step\n",
            "Epoch 29/150\n",
            "4/4 - 0s - loss: 0.8744 - accuracy: 0.6500 - 10ms/epoch - 2ms/step\n",
            "Epoch 30/150\n",
            "4/4 - 0s - loss: 0.8684 - accuracy: 0.6500 - 9ms/epoch - 2ms/step\n",
            "Epoch 31/150\n",
            "4/4 - 0s - loss: 0.8630 - accuracy: 0.6500 - 11ms/epoch - 3ms/step\n",
            "Epoch 32/150\n",
            "4/4 - 0s - loss: 0.8573 - accuracy: 0.6500 - 13ms/epoch - 3ms/step\n",
            "Epoch 33/150\n",
            "4/4 - 0s - loss: 0.8515 - accuracy: 0.6500 - 11ms/epoch - 3ms/step\n",
            "Epoch 34/150\n",
            "4/4 - 0s - loss: 0.8460 - accuracy: 0.6500 - 9ms/epoch - 2ms/step\n",
            "Epoch 35/150\n",
            "4/4 - 0s - loss: 0.8399 - accuracy: 0.6500 - 9ms/epoch - 2ms/step\n",
            "Epoch 36/150\n",
            "4/4 - 0s - loss: 0.8336 - accuracy: 0.6500 - 10ms/epoch - 2ms/step\n",
            "Epoch 37/150\n",
            "4/4 - 0s - loss: 0.8279 - accuracy: 0.6500 - 14ms/epoch - 3ms/step\n",
            "Epoch 38/150\n",
            "4/4 - 0s - loss: 0.8220 - accuracy: 0.6500 - 10ms/epoch - 2ms/step\n",
            "Epoch 39/150\n",
            "4/4 - 0s - loss: 0.8165 - accuracy: 0.6500 - 10ms/epoch - 3ms/step\n",
            "Epoch 40/150\n",
            "4/4 - 0s - loss: 0.8112 - accuracy: 0.6500 - 9ms/epoch - 2ms/step\n",
            "Epoch 41/150\n",
            "4/4 - 0s - loss: 0.8061 - accuracy: 0.6500 - 9ms/epoch - 2ms/step\n",
            "Epoch 42/150\n",
            "4/4 - 0s - loss: 0.8009 - accuracy: 0.6500 - 14ms/epoch - 4ms/step\n",
            "Epoch 43/150\n",
            "4/4 - 0s - loss: 0.7957 - accuracy: 0.6500 - 10ms/epoch - 3ms/step\n",
            "Epoch 44/150\n",
            "4/4 - 0s - loss: 0.7901 - accuracy: 0.6500 - 8ms/epoch - 2ms/step\n",
            "Epoch 45/150\n",
            "4/4 - 0s - loss: 0.7845 - accuracy: 0.6500 - 9ms/epoch - 2ms/step\n",
            "Epoch 46/150\n",
            "4/4 - 0s - loss: 0.7790 - accuracy: 0.6500 - 8ms/epoch - 2ms/step\n",
            "Epoch 47/150\n",
            "4/4 - 0s - loss: 0.7736 - accuracy: 0.6500 - 13ms/epoch - 3ms/step\n",
            "Epoch 48/150\n",
            "4/4 - 0s - loss: 0.7683 - accuracy: 0.6500 - 8ms/epoch - 2ms/step\n",
            "Epoch 49/150\n",
            "4/4 - 0s - loss: 0.7628 - accuracy: 0.6500 - 9ms/epoch - 2ms/step\n",
            "Epoch 50/150\n",
            "4/4 - 0s - loss: 0.7571 - accuracy: 0.6500 - 8ms/epoch - 2ms/step\n",
            "Epoch 51/150\n",
            "4/4 - 0s - loss: 0.7516 - accuracy: 0.6500 - 8ms/epoch - 2ms/step\n",
            "Epoch 52/150\n",
            "4/4 - 0s - loss: 0.7462 - accuracy: 0.6500 - 8ms/epoch - 2ms/step\n",
            "Epoch 53/150\n",
            "4/4 - 0s - loss: 0.7408 - accuracy: 0.6500 - 8ms/epoch - 2ms/step\n",
            "Epoch 54/150\n",
            "4/4 - 0s - loss: 0.7354 - accuracy: 0.6500 - 8ms/epoch - 2ms/step\n",
            "Epoch 55/150\n",
            "4/4 - 0s - loss: 0.7300 - accuracy: 0.6500 - 9ms/epoch - 2ms/step\n",
            "Epoch 56/150\n",
            "4/4 - 0s - loss: 0.7242 - accuracy: 0.6500 - 8ms/epoch - 2ms/step\n",
            "Epoch 57/150\n",
            "4/4 - 0s - loss: 0.7185 - accuracy: 0.6500 - 7ms/epoch - 2ms/step\n",
            "Epoch 58/150\n",
            "4/4 - 0s - loss: 0.7132 - accuracy: 0.6500 - 10ms/epoch - 3ms/step\n",
            "Epoch 59/150\n",
            "4/4 - 0s - loss: 0.7074 - accuracy: 0.6500 - 8ms/epoch - 2ms/step\n",
            "Epoch 60/150\n",
            "4/4 - 0s - loss: 0.7019 - accuracy: 0.6500 - 8ms/epoch - 2ms/step\n",
            "Epoch 61/150\n",
            "4/4 - 0s - loss: 0.6961 - accuracy: 0.6500 - 8ms/epoch - 2ms/step\n",
            "Epoch 62/150\n",
            "4/4 - 0s - loss: 0.6907 - accuracy: 0.6500 - 7ms/epoch - 2ms/step\n",
            "Epoch 63/150\n",
            "4/4 - 0s - loss: 0.6852 - accuracy: 0.6500 - 8ms/epoch - 2ms/step\n",
            "Epoch 64/150\n",
            "4/4 - 0s - loss: 0.6795 - accuracy: 0.6500 - 9ms/epoch - 2ms/step\n",
            "Epoch 65/150\n",
            "4/4 - 0s - loss: 0.6743 - accuracy: 0.6500 - 8ms/epoch - 2ms/step\n",
            "Epoch 66/150\n",
            "4/4 - 0s - loss: 0.6692 - accuracy: 0.6500 - 8ms/epoch - 2ms/step\n",
            "Epoch 67/150\n",
            "4/4 - 0s - loss: 0.6641 - accuracy: 0.6500 - 8ms/epoch - 2ms/step\n",
            "Epoch 68/150\n",
            "4/4 - 0s - loss: 0.6590 - accuracy: 0.6500 - 8ms/epoch - 2ms/step\n",
            "Epoch 69/150\n",
            "4/4 - 0s - loss: 0.6542 - accuracy: 0.6500 - 7ms/epoch - 2ms/step\n",
            "Epoch 70/150\n",
            "4/4 - 0s - loss: 0.6492 - accuracy: 0.6600 - 11ms/epoch - 3ms/step\n",
            "Epoch 71/150\n",
            "4/4 - 0s - loss: 0.6445 - accuracy: 0.6600 - 10ms/epoch - 2ms/step\n",
            "Epoch 72/150\n",
            "4/4 - 0s - loss: 0.6399 - accuracy: 0.6600 - 8ms/epoch - 2ms/step\n",
            "Epoch 73/150\n",
            "4/4 - 0s - loss: 0.6353 - accuracy: 0.6600 - 8ms/epoch - 2ms/step\n",
            "Epoch 74/150\n",
            "4/4 - 0s - loss: 0.6304 - accuracy: 0.6600 - 11ms/epoch - 3ms/step\n",
            "Epoch 75/150\n",
            "4/4 - 0s - loss: 0.6251 - accuracy: 0.6600 - 9ms/epoch - 2ms/step\n",
            "Epoch 76/150\n",
            "4/4 - 0s - loss: 0.6199 - accuracy: 0.6700 - 8ms/epoch - 2ms/step\n",
            "Epoch 77/150\n",
            "4/4 - 0s - loss: 0.6156 - accuracy: 0.6700 - 15ms/epoch - 4ms/step\n",
            "Epoch 78/150\n",
            "4/4 - 0s - loss: 0.6104 - accuracy: 0.6800 - 9ms/epoch - 2ms/step\n",
            "Epoch 79/150\n",
            "4/4 - 0s - loss: 0.6052 - accuracy: 0.6800 - 12ms/epoch - 3ms/step\n",
            "Epoch 80/150\n",
            "4/4 - 0s - loss: 0.6002 - accuracy: 0.6900 - 11ms/epoch - 3ms/step\n",
            "Epoch 81/150\n",
            "4/4 - 0s - loss: 0.5957 - accuracy: 0.7000 - 10ms/epoch - 2ms/step\n",
            "Epoch 82/150\n",
            "4/4 - 0s - loss: 0.5907 - accuracy: 0.7000 - 10ms/epoch - 3ms/step\n",
            "Epoch 83/150\n",
            "4/4 - 0s - loss: 0.5865 - accuracy: 0.6900 - 10ms/epoch - 3ms/step\n",
            "Epoch 84/150\n",
            "4/4 - 0s - loss: 0.5824 - accuracy: 0.7100 - 9ms/epoch - 2ms/step\n",
            "Epoch 85/150\n",
            "4/4 - 0s - loss: 0.5781 - accuracy: 0.7100 - 11ms/epoch - 3ms/step\n",
            "Epoch 86/150\n",
            "4/4 - 0s - loss: 0.5740 - accuracy: 0.7100 - 9ms/epoch - 2ms/step\n",
            "Epoch 87/150\n",
            "4/4 - 0s - loss: 0.5701 - accuracy: 0.7100 - 9ms/epoch - 2ms/step\n",
            "Epoch 88/150\n",
            "4/4 - 0s - loss: 0.5656 - accuracy: 0.7200 - 8ms/epoch - 2ms/step\n",
            "Epoch 89/150\n",
            "4/4 - 0s - loss: 0.5615 - accuracy: 0.7200 - 8ms/epoch - 2ms/step\n",
            "Epoch 90/150\n",
            "4/4 - 0s - loss: 0.5576 - accuracy: 0.7200 - 8ms/epoch - 2ms/step\n",
            "Epoch 91/150\n",
            "4/4 - 0s - loss: 0.5536 - accuracy: 0.7200 - 8ms/epoch - 2ms/step\n",
            "Epoch 92/150\n",
            "4/4 - 0s - loss: 0.5498 - accuracy: 0.7200 - 9ms/epoch - 2ms/step\n",
            "Epoch 93/150\n",
            "4/4 - 0s - loss: 0.5462 - accuracy: 0.7200 - 10ms/epoch - 2ms/step\n",
            "Epoch 94/150\n",
            "4/4 - 0s - loss: 0.5426 - accuracy: 0.7200 - 11ms/epoch - 3ms/step\n",
            "Epoch 95/150\n",
            "4/4 - 0s - loss: 0.5390 - accuracy: 0.7200 - 14ms/epoch - 3ms/step\n",
            "Epoch 96/150\n",
            "4/4 - 0s - loss: 0.5360 - accuracy: 0.7400 - 10ms/epoch - 2ms/step\n",
            "Epoch 97/150\n",
            "4/4 - 0s - loss: 0.5321 - accuracy: 0.7500 - 9ms/epoch - 2ms/step\n",
            "Epoch 98/150\n",
            "4/4 - 0s - loss: 0.5289 - accuracy: 0.7600 - 9ms/epoch - 2ms/step\n",
            "Epoch 99/150\n",
            "4/4 - 0s - loss: 0.5256 - accuracy: 0.7600 - 10ms/epoch - 2ms/step\n",
            "Epoch 100/150\n",
            "4/4 - 0s - loss: 0.5226 - accuracy: 0.7500 - 10ms/epoch - 2ms/step\n",
            "Epoch 101/150\n",
            "4/4 - 0s - loss: 0.5193 - accuracy: 0.7500 - 14ms/epoch - 3ms/step\n",
            "Epoch 102/150\n",
            "4/4 - 0s - loss: 0.5163 - accuracy: 0.7500 - 10ms/epoch - 3ms/step\n",
            "Epoch 103/150\n",
            "4/4 - 0s - loss: 0.5133 - accuracy: 0.7600 - 16ms/epoch - 4ms/step\n",
            "Epoch 104/150\n",
            "4/4 - 0s - loss: 0.5104 - accuracy: 0.7600 - 15ms/epoch - 4ms/step\n",
            "Epoch 105/150\n",
            "4/4 - 0s - loss: 0.5072 - accuracy: 0.7600 - 10ms/epoch - 3ms/step\n",
            "Epoch 106/150\n",
            "4/4 - 0s - loss: 0.5043 - accuracy: 0.7700 - 10ms/epoch - 3ms/step\n",
            "Epoch 107/150\n",
            "4/4 - 0s - loss: 0.5015 - accuracy: 0.7800 - 10ms/epoch - 2ms/step\n",
            "Epoch 108/150\n",
            "4/4 - 0s - loss: 0.4988 - accuracy: 0.7800 - 11ms/epoch - 3ms/step\n",
            "Epoch 109/150\n",
            "4/4 - 0s - loss: 0.4962 - accuracy: 0.7800 - 10ms/epoch - 2ms/step\n",
            "Epoch 110/150\n",
            "4/4 - 0s - loss: 0.4933 - accuracy: 0.8000 - 10ms/epoch - 2ms/step\n",
            "Epoch 111/150\n",
            "4/4 - 0s - loss: 0.4903 - accuracy: 0.8100 - 10ms/epoch - 3ms/step\n",
            "Epoch 112/150\n",
            "4/4 - 0s - loss: 0.4875 - accuracy: 0.8200 - 11ms/epoch - 3ms/step\n",
            "Epoch 113/150\n",
            "4/4 - 0s - loss: 0.4849 - accuracy: 0.8300 - 13ms/epoch - 3ms/step\n",
            "Epoch 114/150\n",
            "4/4 - 0s - loss: 0.4823 - accuracy: 0.8600 - 11ms/epoch - 3ms/step\n",
            "Epoch 115/150\n",
            "4/4 - 0s - loss: 0.4796 - accuracy: 0.8600 - 13ms/epoch - 3ms/step\n",
            "Epoch 116/150\n",
            "4/4 - 0s - loss: 0.4771 - accuracy: 0.8700 - 10ms/epoch - 3ms/step\n",
            "Epoch 117/150\n",
            "4/4 - 0s - loss: 0.4743 - accuracy: 0.8700 - 12ms/epoch - 3ms/step\n",
            "Epoch 118/150\n",
            "4/4 - 0s - loss: 0.4723 - accuracy: 0.8700 - 12ms/epoch - 3ms/step\n",
            "Epoch 119/150\n",
            "4/4 - 0s - loss: 0.4695 - accuracy: 0.8900 - 13ms/epoch - 3ms/step\n",
            "Epoch 120/150\n",
            "4/4 - 0s - loss: 0.4668 - accuracy: 0.8900 - 12ms/epoch - 3ms/step\n",
            "Epoch 121/150\n",
            "4/4 - 0s - loss: 0.4644 - accuracy: 0.9000 - 16ms/epoch - 4ms/step\n",
            "Epoch 122/150\n",
            "4/4 - 0s - loss: 0.4615 - accuracy: 0.9000 - 12ms/epoch - 3ms/step\n",
            "Epoch 123/150\n",
            "4/4 - 0s - loss: 0.4589 - accuracy: 0.8900 - 13ms/epoch - 3ms/step\n",
            "Epoch 124/150\n",
            "4/4 - 0s - loss: 0.4564 - accuracy: 0.8800 - 13ms/epoch - 3ms/step\n",
            "Epoch 125/150\n",
            "4/4 - 0s - loss: 0.4541 - accuracy: 0.8700 - 14ms/epoch - 3ms/step\n",
            "Epoch 126/150\n",
            "4/4 - 0s - loss: 0.4516 - accuracy: 0.8800 - 11ms/epoch - 3ms/step\n",
            "Epoch 127/150\n",
            "4/4 - 0s - loss: 0.4497 - accuracy: 0.9000 - 10ms/epoch - 2ms/step\n",
            "Epoch 128/150\n",
            "4/4 - 0s - loss: 0.4476 - accuracy: 0.9000 - 11ms/epoch - 3ms/step\n",
            "Epoch 129/150\n",
            "4/4 - 0s - loss: 0.4452 - accuracy: 0.9000 - 10ms/epoch - 3ms/step\n",
            "Epoch 130/150\n",
            "4/4 - 0s - loss: 0.4429 - accuracy: 0.9000 - 10ms/epoch - 3ms/step\n",
            "Epoch 131/150\n",
            "4/4 - 0s - loss: 0.4405 - accuracy: 0.8900 - 12ms/epoch - 3ms/step\n",
            "Epoch 132/150\n",
            "4/4 - 0s - loss: 0.4380 - accuracy: 0.8800 - 10ms/epoch - 2ms/step\n",
            "Epoch 133/150\n",
            "4/4 - 0s - loss: 0.4359 - accuracy: 0.8800 - 13ms/epoch - 3ms/step\n",
            "Epoch 134/150\n",
            "4/4 - 0s - loss: 0.4337 - accuracy: 0.8800 - 9ms/epoch - 2ms/step\n",
            "Epoch 135/150\n",
            "4/4 - 0s - loss: 0.4313 - accuracy: 0.8800 - 11ms/epoch - 3ms/step\n",
            "Epoch 136/150\n",
            "4/4 - 0s - loss: 0.4292 - accuracy: 0.8900 - 12ms/epoch - 3ms/step\n",
            "Epoch 137/150\n",
            "4/4 - 0s - loss: 0.4269 - accuracy: 0.9000 - 12ms/epoch - 3ms/step\n",
            "Epoch 138/150\n",
            "4/4 - 0s - loss: 0.4243 - accuracy: 0.9000 - 11ms/epoch - 3ms/step\n",
            "Epoch 139/150\n",
            "4/4 - 0s - loss: 0.4223 - accuracy: 0.9000 - 10ms/epoch - 3ms/step\n",
            "Epoch 140/150\n",
            "4/4 - 0s - loss: 0.4199 - accuracy: 0.9000 - 11ms/epoch - 3ms/step\n",
            "Epoch 141/150\n",
            "4/4 - 0s - loss: 0.4180 - accuracy: 0.9200 - 16ms/epoch - 4ms/step\n",
            "Epoch 142/150\n",
            "4/4 - 0s - loss: 0.4156 - accuracy: 0.9300 - 10ms/epoch - 3ms/step\n",
            "Epoch 143/150\n",
            "4/4 - 0s - loss: 0.4136 - accuracy: 0.9400 - 10ms/epoch - 3ms/step\n",
            "Epoch 144/150\n",
            "4/4 - 0s - loss: 0.4113 - accuracy: 0.9400 - 11ms/epoch - 3ms/step\n",
            "Epoch 145/150\n",
            "4/4 - 0s - loss: 0.4091 - accuracy: 0.9300 - 15ms/epoch - 4ms/step\n",
            "Epoch 146/150\n",
            "4/4 - 0s - loss: 0.4068 - accuracy: 0.9300 - 11ms/epoch - 3ms/step\n",
            "Epoch 147/150\n",
            "4/4 - 0s - loss: 0.4048 - accuracy: 0.9300 - 13ms/epoch - 3ms/step\n",
            "Epoch 148/150\n",
            "4/4 - 0s - loss: 0.4026 - accuracy: 0.9300 - 12ms/epoch - 3ms/step\n",
            "Epoch 149/150\n",
            "4/4 - 0s - loss: 0.4004 - accuracy: 0.9300 - 14ms/epoch - 3ms/step\n",
            "Epoch 150/150\n",
            "4/4 - 0s - loss: 0.3980 - accuracy: 0.9400 - 11ms/epoch - 3ms/step\n"
          ]
        },
        {
          "output_type": "execute_result",
          "data": {
            "text/plain": [
              "<keras.src.callbacks.History at 0x7db8675a4f10>"
            ]
          },
          "metadata": {},
          "execution_count": 14
        }
      ]
    },
    {
      "cell_type": "code",
      "source": [
        "predictions = model.predict(scaled_X_test).argmax(axis = 1)"
      ],
      "metadata": {
        "colab": {
          "base_uri": "https://localhost:8080/"
        },
        "id": "lhcXr5pFIHye",
        "outputId": "f64da452-51d5-4bcc-f6d2-6c899292b039"
      },
      "execution_count": 17,
      "outputs": [
        {
          "output_type": "stream",
          "name": "stdout",
          "text": [
            "2/2 [==============================] - 0s 4ms/step\n"
          ]
        }
      ]
    },
    {
      "cell_type": "code",
      "source": [
        "y_test"
      ],
      "metadata": {
        "colab": {
          "base_uri": "https://localhost:8080/"
        },
        "id": "yvhZmm3qIeU3",
        "outputId": "157529ef-f7ff-4a8d-a6e0-dbd69af7b062"
      },
      "execution_count": 19,
      "outputs": [
        {
          "output_type": "execute_result",
          "data": {
            "text/plain": [
              "array([[0., 1., 0.],\n",
              "       [1., 0., 0.],\n",
              "       [0., 0., 1.],\n",
              "       [0., 1., 0.],\n",
              "       [0., 1., 0.],\n",
              "       [1., 0., 0.],\n",
              "       [0., 1., 0.],\n",
              "       [0., 0., 1.],\n",
              "       [0., 1., 0.],\n",
              "       [0., 1., 0.],\n",
              "       [0., 0., 1.],\n",
              "       [1., 0., 0.],\n",
              "       [1., 0., 0.],\n",
              "       [1., 0., 0.],\n",
              "       [1., 0., 0.],\n",
              "       [0., 1., 0.],\n",
              "       [0., 0., 1.],\n",
              "       [0., 1., 0.],\n",
              "       [0., 1., 0.],\n",
              "       [0., 0., 1.],\n",
              "       [1., 0., 0.],\n",
              "       [0., 0., 1.],\n",
              "       [1., 0., 0.],\n",
              "       [0., 0., 1.],\n",
              "       [0., 0., 1.],\n",
              "       [0., 0., 1.],\n",
              "       [0., 0., 1.],\n",
              "       [0., 0., 1.],\n",
              "       [1., 0., 0.],\n",
              "       [1., 0., 0.],\n",
              "       [1., 0., 0.],\n",
              "       [1., 0., 0.],\n",
              "       [0., 1., 0.],\n",
              "       [1., 0., 0.],\n",
              "       [1., 0., 0.],\n",
              "       [0., 0., 1.],\n",
              "       [0., 1., 0.],\n",
              "       [1., 0., 0.],\n",
              "       [1., 0., 0.],\n",
              "       [1., 0., 0.],\n",
              "       [0., 0., 1.],\n",
              "       [0., 1., 0.],\n",
              "       [0., 1., 0.],\n",
              "       [1., 0., 0.],\n",
              "       [1., 0., 0.],\n",
              "       [0., 1., 0.],\n",
              "       [0., 0., 1.],\n",
              "       [0., 0., 1.],\n",
              "       [0., 1., 0.],\n",
              "       [0., 0., 1.]], dtype=float32)"
            ]
          },
          "metadata": {},
          "execution_count": 19
        }
      ]
    },
    {
      "cell_type": "code",
      "source": [
        "confusion_matrix(y_test.argmax(axis=1), predictions)"
      ],
      "metadata": {
        "colab": {
          "base_uri": "https://localhost:8080/"
        },
        "id": "Ma3OyE1yI4Hc",
        "outputId": "6e23a1a7-ff07-40a2-b141-fa45aed8bf29"
      },
      "execution_count": 22,
      "outputs": [
        {
          "output_type": "execute_result",
          "data": {
            "text/plain": [
              "array([[19,  0,  0],\n",
              "       [ 0, 12,  3],\n",
              "       [ 0,  0, 16]])"
            ]
          },
          "metadata": {},
          "execution_count": 22
        }
      ]
    },
    {
      "cell_type": "code",
      "source": [
        "print(classification_report(y_test.argmax(axis=1), predictions))"
      ],
      "metadata": {
        "colab": {
          "base_uri": "https://localhost:8080/"
        },
        "id": "HfrjGSe6LPbw",
        "outputId": "ab7f1e99-74d1-4bc0-b905-014723387148"
      },
      "execution_count": 24,
      "outputs": [
        {
          "output_type": "stream",
          "name": "stdout",
          "text": [
            "              precision    recall  f1-score   support\n",
            "\n",
            "           0       1.00      1.00      1.00        19\n",
            "           1       1.00      0.80      0.89        15\n",
            "           2       0.84      1.00      0.91        16\n",
            "\n",
            "    accuracy                           0.94        50\n",
            "   macro avg       0.95      0.93      0.93        50\n",
            "weighted avg       0.95      0.94      0.94        50\n",
            "\n"
          ]
        }
      ]
    },
    {
      "cell_type": "code",
      "source": [
        "# model.save('myfirstmodel.h5')"
      ],
      "metadata": {
        "id": "_o4J5l_pLh1G"
      },
      "execution_count": null,
      "outputs": []
    },
    {
      "cell_type": "code",
      "source": [
        "# new_model = load_model('myfirstmodel.h5')"
      ],
      "metadata": {
        "id": "iNHUBdZrL0dY"
      },
      "execution_count": null,
      "outputs": []
    }
  ]
}