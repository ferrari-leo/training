{
  "nbformat": 4,
  "nbformat_minor": 0,
  "metadata": {
    "colab": {
      "provenance": [],
      "mount_file_id": "17KnD3nThYlir0_6casTajh9u0mPEebxI",
      "authorship_tag": "ABX9TyNZ0a/UTLBxUb70YK2oeOYg",
      "include_colab_link": true
    },
    "kernelspec": {
      "name": "python3",
      "display_name": "Python 3"
    },
    "language_info": {
      "name": "python"
    },
    "accelerator": "TPU"
  },
  "cells": [
    {
      "cell_type": "markdown",
      "metadata": {
        "id": "view-in-github",
        "colab_type": "text"
      },
      "source": [
        "<a href=\"https://colab.research.google.com/github/ferrari-leo/training/blob/main/nlp_with_python/06_deep_learning/02_qa_bot.ipynb\" target=\"_parent\"><img src=\"https://colab.research.google.com/assets/colab-badge.svg\" alt=\"Open In Colab\"/></a>"
      ]
    },
    {
      "cell_type": "code",
      "execution_count": 53,
      "metadata": {
        "id": "05cPS9XIJB5Y"
      },
      "outputs": [],
      "source": [
        "import pickle\n",
        "import os\n",
        "import numpy as np\n",
        "import matplotlib.pyplot as plt\n",
        "from keras.utils import pad_sequences\n",
        "from keras.preprocessing.text import Tokenizer\n",
        "from keras.models import Sequential, Model\n",
        "from keras.layers import Activation, Input, Dense, Permute, Dropout, add, dot, concatenate, LSTM, Embedding\n",
        "%matplotlib inline"
      ]
    },
    {
      "cell_type": "code",
      "source": [
        "folder_path = '/content/drive/MyDrive/NLP Udemy'"
      ],
      "metadata": {
        "id": "8I7lXV9uJNUT"
      },
      "execution_count": 8,
      "outputs": []
    },
    {
      "cell_type": "code",
      "source": [
        "with open(os.path.join(folder_path, 'train_qa.txt'), 'rb') as f:\n",
        "  train_data = pickle.load(f)"
      ],
      "metadata": {
        "id": "geq4nGZyL8wW"
      },
      "execution_count": 11,
      "outputs": []
    },
    {
      "cell_type": "code",
      "source": [
        "with open(os.path.join(folder_path, 'test_qa.txt'), 'rb') as f:\n",
        "  test_data = pickle.load(f)"
      ],
      "metadata": {
        "id": "CN0A0hFZbnhj"
      },
      "execution_count": 12,
      "outputs": []
    },
    {
      "cell_type": "code",
      "source": [
        "[' '.join(t) for t in train_data[0]]"
      ],
      "metadata": {
        "colab": {
          "base_uri": "https://localhost:8080/"
        },
        "id": "PFZkkRe2btaW",
        "outputId": "f0e0e4b1-b383-4058-a6ac-276601198872"
      },
      "execution_count": 17,
      "outputs": [
        {
          "output_type": "execute_result",
          "data": {
            "text/plain": [
              "['Mary moved to the bathroom . Sandra journeyed to the bedroom .',\n",
              " 'Is Sandra in the hallway ?',\n",
              " 'n o']"
            ]
          },
          "metadata": {},
          "execution_count": 17
        }
      ]
    },
    {
      "cell_type": "code",
      "source": [
        "# create vocabulary\n",
        "all_data = test_data + train_data\n",
        "vocab = set()\n",
        "for s, q, a in all_data:\n",
        "  vocab = vocab.union(set(s))\n",
        "  vocab = vocab.union(set(q))\n",
        "vocab.add('no')\n",
        "vocab.add('yes')"
      ],
      "metadata": {
        "id": "vE6asUPcbysW"
      },
      "execution_count": 18,
      "outputs": []
    },
    {
      "cell_type": "code",
      "source": [
        "vocab_len = len(vocab) + 1"
      ],
      "metadata": {
        "id": "dsH99kL5dPNV"
      },
      "execution_count": 20,
      "outputs": []
    },
    {
      "cell_type": "code",
      "source": [
        "# longest story\n",
        "all_story_lens = [len(data[0]) for data in all_data]\n",
        "max_story_len = max(all_story_lens)\n",
        "\n",
        "# longest question\n",
        "max_question_len = max([len(data[1]) for data in all_data])"
      ],
      "metadata": {
        "id": "D0ZCVJRfdQLL"
      },
      "execution_count": 32,
      "outputs": []
    },
    {
      "cell_type": "code",
      "source": [
        "tokenizer = Tokenizer(filters=[])\n",
        "tokenizer.fit_on_texts(vocab)"
      ],
      "metadata": {
        "id": "2fHgC5Zndrun"
      },
      "execution_count": 24,
      "outputs": []
    },
    {
      "cell_type": "code",
      "source": [
        "tokenizer.word_index"
      ],
      "metadata": {
        "colab": {
          "base_uri": "https://localhost:8080/"
        },
        "id": "LlmcNJG-ervn",
        "outputId": "0e7887ae-c518-4872-cb25-7f6f965050eb"
      },
      "execution_count": 25,
      "outputs": [
        {
          "output_type": "execute_result",
          "data": {
            "text/plain": [
              "{'in': 1,\n",
              " 'kitchen': 2,\n",
              " '?': 3,\n",
              " 'down': 4,\n",
              " 'got': 5,\n",
              " 'is': 6,\n",
              " 'to': 7,\n",
              " 'travelled': 8,\n",
              " 'milk': 9,\n",
              " 'bedroom': 10,\n",
              " 'up': 11,\n",
              " 'discarded': 12,\n",
              " 'yes': 13,\n",
              " 'grabbed': 14,\n",
              " 'bathroom': 15,\n",
              " 'john': 16,\n",
              " 'back': 17,\n",
              " 'garden': 18,\n",
              " 'apple': 19,\n",
              " '.': 20,\n",
              " 'hallway': 21,\n",
              " 'no': 22,\n",
              " 'took': 23,\n",
              " 'put': 24,\n",
              " 'went': 25,\n",
              " 'left': 26,\n",
              " 'journeyed': 27,\n",
              " 'picked': 28,\n",
              " 'mary': 29,\n",
              " 'moved': 30,\n",
              " 'football': 31,\n",
              " 'sandra': 32,\n",
              " 'daniel': 33,\n",
              " 'office': 34,\n",
              " 'dropped': 35,\n",
              " 'there': 36,\n",
              " 'the': 37}"
            ]
          },
          "metadata": {},
          "execution_count": 25
        }
      ]
    },
    {
      "cell_type": "code",
      "source": [
        "train_story_text = []\n",
        "train_question_test = []\n",
        "train_answers = []\n",
        "for s, q, a in train_data:\n",
        "  train_story_text.append(s)\n",
        "  train_question_test.append(q)\n",
        "  train_answers.append(a)"
      ],
      "metadata": {
        "id": "YPPnVur_euhR"
      },
      "execution_count": 26,
      "outputs": []
    },
    {
      "cell_type": "code",
      "source": [
        "train_story_seq = tokenizer.texts_to_sequences(train_story_text)"
      ],
      "metadata": {
        "id": "Np-1p-x7fU9d"
      },
      "execution_count": 27,
      "outputs": []
    },
    {
      "cell_type": "code",
      "source": [
        "def vectorize_stories(\n",
        "    data,\n",
        "    word_index=tokenizer.word_index,\n",
        "    max_story_len=max_story_len,\n",
        "    max_question_len=max_question_len\n",
        "    ):\n",
        "  # stories\n",
        "  X = []\n",
        "  # questions\n",
        "  Xq = []\n",
        "  # answers\n",
        "  Y = []\n",
        "\n",
        "  for s, q, a in data:\n",
        "    x =  [word_index[word.lower()] for word in s]\n",
        "    xq = [word_index[word.lower()] for word in q]\n",
        "    y = np.zeros(len(word_index) + 1)\n",
        "    y[word_index[a]] = 1\n",
        "\n",
        "    X.append(x)\n",
        "    Xq.append(xq)\n",
        "    Y.append(y)\n",
        "\n",
        "  return (pad_sequences(X, maxlen=max_story_len), pad_sequences(Xq, maxlen=max_question_len), np.array(Y))"
      ],
      "metadata": {
        "id": "eG5rBaVIffCm"
      },
      "execution_count": 33,
      "outputs": []
    },
    {
      "cell_type": "code",
      "source": [
        "inputs_train, queries_train, answers_train = vectorize_stories(train_data)\n",
        "inputs_test, queries_test, answers_test = vectorize_stories(test_data)"
      ],
      "metadata": {
        "id": "KUxIP8GBhF0Q"
      },
      "execution_count": 34,
      "outputs": []
    },
    {
      "cell_type": "code",
      "source": [
        "# placeholder shape=(max_story_len, batch_size)\n",
        "input_sequence = Input((max_story_len,))\n",
        "question = Input((max_question_len,))\n",
        "vocab_size = len(vocab) + 1"
      ],
      "metadata": {
        "id": "-NUXuG6ChPrX"
      },
      "execution_count": 37,
      "outputs": []
    },
    {
      "cell_type": "code",
      "source": [
        "# input encoder M - output size (samples, max_story_len, embedding_dim)\n",
        "input_encoder_m = Sequential()\n",
        "input_encoder_m.add(Embedding(input_dim=vocab_size, output_dim=64))\n",
        "input_encoder_m.add(Dropout(0.3))"
      ],
      "metadata": {
        "id": "v5KMMc8Nj6d0"
      },
      "execution_count": 38,
      "outputs": []
    },
    {
      "cell_type": "code",
      "source": [
        "# input encoder C - output size (samples, max_story_len, max_question_len)\n",
        "input_encoder_c = Sequential()\n",
        "input_encoder_c.add(Embedding(input_dim=vocab_size, output_dim=max_question_len))\n",
        "input_encoder_c.add(Dropout(0.3))"
      ],
      "metadata": {
        "id": "bLDPX5AvkamM"
      },
      "execution_count": 39,
      "outputs": []
    },
    {
      "cell_type": "code",
      "source": [
        "# question encoder - output size (samples, max_question_len, embedding_dim)\n",
        "question_encoder = Sequential()\n",
        "question_encoder.add(Embedding(input_dim=vocab_size, output_dim=64, input_length=max_question_len))\n",
        "question_encoder.add(Dropout(0.3))"
      ],
      "metadata": {
        "id": "o1KVJeIak2bh"
      },
      "execution_count": 40,
      "outputs": []
    },
    {
      "cell_type": "code",
      "source": [
        "# encoded <- encoder(input)\n",
        "input_encoded_m = input_encoder_m(input_sequence)\n",
        "input_encoded_c = input_encoder_c(input_sequence)\n",
        "question_encoded = question_encoder(question)"
      ],
      "metadata": {
        "id": "5HtyVfTIlnX1"
      },
      "execution_count": 41,
      "outputs": []
    },
    {
      "cell_type": "code",
      "source": [
        "match_out = dot([input_encoded_m, question_encoded], axes = (2,2))\n",
        "match_out = Activation('softmax')(match_out)"
      ],
      "metadata": {
        "id": "K_AXeGkrl6f6"
      },
      "execution_count": 43,
      "outputs": []
    },
    {
      "cell_type": "code",
      "source": [
        "response = add([match_out, input_encoded_c])\n",
        "response = Permute((2,1))(response)"
      ],
      "metadata": {
        "id": "8MTFeKSNobM3"
      },
      "execution_count": 44,
      "outputs": []
    },
    {
      "cell_type": "code",
      "source": [
        "answer = concatenate([response, question_encoded])"
      ],
      "metadata": {
        "id": "V2xhZyj_pp-B"
      },
      "execution_count": 45,
      "outputs": []
    },
    {
      "cell_type": "code",
      "source": [
        "answer = LSTM(32)(answer)\n",
        "answer = Dropout(0.5)(answer)\n",
        "answer = Dense(vocab_size)(answer) # (samples, vocab_size) with yes/no or 0"
      ],
      "metadata": {
        "id": "UOHij5qNpwan"
      },
      "execution_count": 47,
      "outputs": []
    },
    {
      "cell_type": "code",
      "source": [
        "answer = Activation('softmax')(answer)"
      ],
      "metadata": {
        "id": "bfVLe9Hppw_8"
      },
      "execution_count": 48,
      "outputs": []
    },
    {
      "cell_type": "code",
      "source": [
        "model = Model([input_sequence, question], answer)"
      ],
      "metadata": {
        "id": "Ov5BC91irvdE"
      },
      "execution_count": 49,
      "outputs": []
    },
    {
      "cell_type": "code",
      "source": [
        "model.compile(optimizer='rmsprop', loss='categorical_crossentropy', metrics='accuracy')"
      ],
      "metadata": {
        "id": "KLN80nKJsGRC"
      },
      "execution_count": 50,
      "outputs": []
    },
    {
      "cell_type": "code",
      "source": [
        "model.summary()"
      ],
      "metadata": {
        "colab": {
          "base_uri": "https://localhost:8080/"
        },
        "id": "AhTp5nVXshsO",
        "outputId": "a5b1b6c0-c500-4dbe-dd93-f19410505628"
      },
      "execution_count": 51,
      "outputs": [
        {
          "output_type": "stream",
          "name": "stdout",
          "text": [
            "Model: \"model\"\n",
            "__________________________________________________________________________________________________\n",
            " Layer (type)                   Output Shape         Param #     Connected to                     \n",
            "==================================================================================================\n",
            " input_1 (InputLayer)           [(None, 156)]        0           []                               \n",
            "                                                                                                  \n",
            " input_2 (InputLayer)           [(None, 6)]          0           []                               \n",
            "                                                                                                  \n",
            " sequential (Sequential)        (None, None, 64)     2432        ['input_1[0][0]']                \n",
            "                                                                                                  \n",
            " sequential_2 (Sequential)      (None, 6, 64)        2432        ['input_2[0][0]']                \n",
            "                                                                                                  \n",
            " dot_1 (Dot)                    (None, 156, 6)       0           ['sequential[0][0]',             \n",
            "                                                                  'sequential_2[0][0]']           \n",
            "                                                                                                  \n",
            " activation_1 (Activation)      (None, 156, 6)       0           ['dot_1[0][0]']                  \n",
            "                                                                                                  \n",
            " sequential_1 (Sequential)      (None, None, 6)      228         ['input_1[0][0]']                \n",
            "                                                                                                  \n",
            " add (Add)                      (None, 156, 6)       0           ['activation_1[0][0]',           \n",
            "                                                                  'sequential_1[0][0]']           \n",
            "                                                                                                  \n",
            " permute (Permute)              (None, 6, 156)       0           ['add[0][0]']                    \n",
            "                                                                                                  \n",
            " concatenate (Concatenate)      (None, 6, 220)       0           ['permute[0][0]',                \n",
            "                                                                  'sequential_2[0][0]']           \n",
            "                                                                                                  \n",
            " lstm (LSTM)                    (None, 32)           32384       ['concatenate[0][0]']            \n",
            "                                                                                                  \n",
            " dropout_3 (Dropout)            (None, 32)           0           ['lstm[0][0]']                   \n",
            "                                                                                                  \n",
            " dense (Dense)                  (None, 38)           1254        ['dropout_3[0][0]']              \n",
            "                                                                                                  \n",
            " activation_2 (Activation)      (None, 38)           0           ['dense[0][0]']                  \n",
            "                                                                                                  \n",
            "==================================================================================================\n",
            "Total params: 38,730\n",
            "Trainable params: 38,730\n",
            "Non-trainable params: 0\n",
            "__________________________________________________________________________________________________\n"
          ]
        }
      ]
    },
    {
      "cell_type": "code",
      "source": [
        "history = model.fit(\n",
        "    [inputs_train, queries_train],\n",
        "    answers_train,\n",
        "    batch_size=32,\n",
        "    epochs = 100,\n",
        "    validation_data = ([inputs_test, queries_test], answers_test)\n",
        "    )"
      ],
      "metadata": {
        "colab": {
          "base_uri": "https://localhost:8080/"
        },
        "id": "Xj5Q9KjBsiws",
        "outputId": "5df76324-8dbb-44f2-b480-85c509f10c02"
      },
      "execution_count": 52,
      "outputs": [
        {
          "output_type": "stream",
          "name": "stdout",
          "text": [
            "Epoch 1/100\n",
            "313/313 [==============================] - 12s 25ms/step - loss: 0.9059 - accuracy: 0.4990 - val_loss: 0.7091 - val_accuracy: 0.4970\n",
            "Epoch 2/100\n",
            "313/313 [==============================] - 6s 19ms/step - loss: 0.7075 - accuracy: 0.4987 - val_loss: 0.6937 - val_accuracy: 0.4970\n",
            "Epoch 3/100\n",
            "313/313 [==============================] - 7s 23ms/step - loss: 0.6984 - accuracy: 0.4953 - val_loss: 0.6933 - val_accuracy: 0.5030\n",
            "Epoch 4/100\n",
            "313/313 [==============================] - 6s 20ms/step - loss: 0.6964 - accuracy: 0.5011 - val_loss: 0.6936 - val_accuracy: 0.4970\n",
            "Epoch 5/100\n",
            "313/313 [==============================] - 7s 23ms/step - loss: 0.6960 - accuracy: 0.5013 - val_loss: 0.6941 - val_accuracy: 0.5030\n",
            "Epoch 6/100\n",
            "313/313 [==============================] - 6s 18ms/step - loss: 0.6959 - accuracy: 0.5001 - val_loss: 0.6936 - val_accuracy: 0.5030\n",
            "Epoch 7/100\n",
            "313/313 [==============================] - 7s 22ms/step - loss: 0.6956 - accuracy: 0.5008 - val_loss: 0.6935 - val_accuracy: 0.4970\n",
            "Epoch 8/100\n",
            "313/313 [==============================] - 5s 17ms/step - loss: 0.6955 - accuracy: 0.4966 - val_loss: 0.6943 - val_accuracy: 0.5030\n",
            "Epoch 9/100\n",
            "313/313 [==============================] - 7s 22ms/step - loss: 0.6955 - accuracy: 0.5039 - val_loss: 0.6933 - val_accuracy: 0.5030\n",
            "Epoch 10/100\n",
            "313/313 [==============================] - 6s 20ms/step - loss: 0.6956 - accuracy: 0.4964 - val_loss: 0.6935 - val_accuracy: 0.4970\n",
            "Epoch 11/100\n",
            "313/313 [==============================] - 6s 19ms/step - loss: 0.6954 - accuracy: 0.4901 - val_loss: 0.6939 - val_accuracy: 0.4970\n",
            "Epoch 12/100\n",
            "313/313 [==============================] - 7s 24ms/step - loss: 0.6949 - accuracy: 0.4956 - val_loss: 0.6946 - val_accuracy: 0.4970\n",
            "Epoch 13/100\n",
            "313/313 [==============================] - 6s 18ms/step - loss: 0.6955 - accuracy: 0.4937 - val_loss: 0.6949 - val_accuracy: 0.4970\n",
            "Epoch 14/100\n",
            "313/313 [==============================] - 7s 22ms/step - loss: 0.6946 - accuracy: 0.4985 - val_loss: 0.6934 - val_accuracy: 0.5030\n",
            "Epoch 15/100\n",
            "313/313 [==============================] - 6s 19ms/step - loss: 0.6951 - accuracy: 0.4961 - val_loss: 0.6969 - val_accuracy: 0.4970\n",
            "Epoch 16/100\n",
            "313/313 [==============================] - 7s 21ms/step - loss: 0.6947 - accuracy: 0.4982 - val_loss: 0.6943 - val_accuracy: 0.4970\n",
            "Epoch 17/100\n",
            "313/313 [==============================] - 6s 19ms/step - loss: 0.6945 - accuracy: 0.5022 - val_loss: 0.6935 - val_accuracy: 0.5030\n",
            "Epoch 18/100\n",
            "313/313 [==============================] - 7s 23ms/step - loss: 0.6955 - accuracy: 0.4887 - val_loss: 0.6933 - val_accuracy: 0.5030\n",
            "Epoch 19/100\n",
            "313/313 [==============================] - 5s 17ms/step - loss: 0.6953 - accuracy: 0.4907 - val_loss: 0.6934 - val_accuracy: 0.4970\n",
            "Epoch 20/100\n",
            "313/313 [==============================] - 6s 21ms/step - loss: 0.6953 - accuracy: 0.4927 - val_loss: 0.6947 - val_accuracy: 0.4970\n",
            "Epoch 21/100\n",
            "313/313 [==============================] - 6s 19ms/step - loss: 0.6948 - accuracy: 0.4986 - val_loss: 0.6950 - val_accuracy: 0.4970\n",
            "Epoch 22/100\n",
            "313/313 [==============================] - 5s 17ms/step - loss: 0.6949 - accuracy: 0.5003 - val_loss: 0.6940 - val_accuracy: 0.5030\n",
            "Epoch 23/100\n",
            "313/313 [==============================] - 7s 23ms/step - loss: 0.6950 - accuracy: 0.4954 - val_loss: 0.6972 - val_accuracy: 0.4970\n",
            "Epoch 24/100\n",
            "313/313 [==============================] - 6s 18ms/step - loss: 0.6952 - accuracy: 0.4934 - val_loss: 0.6935 - val_accuracy: 0.5030\n",
            "Epoch 25/100\n",
            "313/313 [==============================] - 7s 22ms/step - loss: 0.6951 - accuracy: 0.4977 - val_loss: 0.6939 - val_accuracy: 0.4970\n",
            "Epoch 26/100\n",
            "313/313 [==============================] - 5s 17ms/step - loss: 0.6946 - accuracy: 0.5009 - val_loss: 0.6953 - val_accuracy: 0.4970\n",
            "Epoch 27/100\n",
            "313/313 [==============================] - 7s 24ms/step - loss: 0.6956 - accuracy: 0.4872 - val_loss: 0.6958 - val_accuracy: 0.4970\n",
            "Epoch 28/100\n",
            "313/313 [==============================] - 6s 18ms/step - loss: 0.6947 - accuracy: 0.5037 - val_loss: 0.6976 - val_accuracy: 0.5030\n",
            "Epoch 29/100\n",
            "313/313 [==============================] - 7s 21ms/step - loss: 0.6953 - accuracy: 0.4923 - val_loss: 0.6934 - val_accuracy: 0.4970\n",
            "Epoch 30/100\n",
            "313/313 [==============================] - 6s 18ms/step - loss: 0.6952 - accuracy: 0.4928 - val_loss: 0.6934 - val_accuracy: 0.5030\n",
            "Epoch 31/100\n",
            "313/313 [==============================] - 6s 18ms/step - loss: 0.6951 - accuracy: 0.4957 - val_loss: 0.6936 - val_accuracy: 0.5030\n",
            "Epoch 32/100\n",
            "313/313 [==============================] - 7s 21ms/step - loss: 0.6951 - accuracy: 0.5002 - val_loss: 0.6959 - val_accuracy: 0.4970\n",
            "Epoch 33/100\n",
            "313/313 [==============================] - 5s 17ms/step - loss: 0.6948 - accuracy: 0.4983 - val_loss: 0.6932 - val_accuracy: 0.5030\n",
            "Epoch 34/100\n",
            "313/313 [==============================] - 7s 21ms/step - loss: 0.6949 - accuracy: 0.5001 - val_loss: 0.6939 - val_accuracy: 0.5030\n",
            "Epoch 35/100\n",
            "313/313 [==============================] - 6s 18ms/step - loss: 0.6947 - accuracy: 0.5018 - val_loss: 0.6943 - val_accuracy: 0.4970\n",
            "Epoch 36/100\n",
            "313/313 [==============================] - 10s 32ms/step - loss: 0.6944 - accuracy: 0.5000 - val_loss: 0.6932 - val_accuracy: 0.4970\n",
            "Epoch 37/100\n",
            "313/313 [==============================] - 9s 28ms/step - loss: 0.6951 - accuracy: 0.4913 - val_loss: 0.6932 - val_accuracy: 0.4970\n",
            "Epoch 38/100\n",
            "313/313 [==============================] - 7s 24ms/step - loss: 0.6955 - accuracy: 0.4897 - val_loss: 0.6931 - val_accuracy: 0.5030\n",
            "Epoch 39/100\n",
            "313/313 [==============================] - 6s 19ms/step - loss: 0.6947 - accuracy: 0.5019 - val_loss: 0.6936 - val_accuracy: 0.4970\n",
            "Epoch 40/100\n",
            "313/313 [==============================] - 12s 38ms/step - loss: 0.6954 - accuracy: 0.4865 - val_loss: 0.6933 - val_accuracy: 0.5030\n",
            "Epoch 41/100\n",
            "313/313 [==============================] - 13s 42ms/step - loss: 0.6948 - accuracy: 0.4977 - val_loss: 0.6936 - val_accuracy: 0.4970\n",
            "Epoch 42/100\n",
            "313/313 [==============================] - 14s 45ms/step - loss: 0.6951 - accuracy: 0.4958 - val_loss: 0.6981 - val_accuracy: 0.4970\n",
            "Epoch 43/100\n",
            "313/313 [==============================] - 12s 38ms/step - loss: 0.6949 - accuracy: 0.5043 - val_loss: 0.6932 - val_accuracy: 0.4970\n",
            "Epoch 44/100\n",
            "313/313 [==============================] - 11s 36ms/step - loss: 0.6949 - accuracy: 0.4952 - val_loss: 0.6933 - val_accuracy: 0.4970\n",
            "Epoch 45/100\n",
            "313/313 [==============================] - 11s 36ms/step - loss: 0.6945 - accuracy: 0.5002 - val_loss: 0.6965 - val_accuracy: 0.5030\n",
            "Epoch 46/100\n",
            "313/313 [==============================] - 10s 32ms/step - loss: 0.6947 - accuracy: 0.5044 - val_loss: 0.6935 - val_accuracy: 0.4970\n",
            "Epoch 47/100\n",
            "313/313 [==============================] - 10s 32ms/step - loss: 0.6951 - accuracy: 0.4906 - val_loss: 0.6932 - val_accuracy: 0.5030\n",
            "Epoch 48/100\n",
            "313/313 [==============================] - 9s 29ms/step - loss: 0.6950 - accuracy: 0.4943 - val_loss: 0.6932 - val_accuracy: 0.5030\n",
            "Epoch 49/100\n",
            "313/313 [==============================] - 6s 20ms/step - loss: 0.6944 - accuracy: 0.5016 - val_loss: 0.6939 - val_accuracy: 0.4970\n",
            "Epoch 50/100\n",
            "313/313 [==============================] - 5s 17ms/step - loss: 0.6949 - accuracy: 0.5037 - val_loss: 0.6935 - val_accuracy: 0.4970\n",
            "Epoch 51/100\n",
            "313/313 [==============================] - 7s 23ms/step - loss: 0.6950 - accuracy: 0.4979 - val_loss: 0.6942 - val_accuracy: 0.4970\n",
            "Epoch 52/100\n",
            "313/313 [==============================] - 5s 17ms/step - loss: 0.6945 - accuracy: 0.5030 - val_loss: 0.6934 - val_accuracy: 0.5030\n",
            "Epoch 53/100\n",
            "313/313 [==============================] - 7s 22ms/step - loss: 0.6949 - accuracy: 0.5024 - val_loss: 0.6933 - val_accuracy: 0.5030\n",
            "Epoch 54/100\n",
            "313/313 [==============================] - 6s 18ms/step - loss: 0.6949 - accuracy: 0.4962 - val_loss: 0.6932 - val_accuracy: 0.5030\n",
            "Epoch 55/100\n",
            "313/313 [==============================] - 6s 20ms/step - loss: 0.6942 - accuracy: 0.5050 - val_loss: 0.6932 - val_accuracy: 0.5030\n",
            "Epoch 56/100\n",
            "313/313 [==============================] - 6s 19ms/step - loss: 0.6951 - accuracy: 0.4951 - val_loss: 0.6934 - val_accuracy: 0.4970\n",
            "Epoch 57/100\n",
            "313/313 [==============================] - 5s 16ms/step - loss: 0.6947 - accuracy: 0.4948 - val_loss: 0.6950 - val_accuracy: 0.4970\n",
            "Epoch 58/100\n",
            "313/313 [==============================] - 8s 24ms/step - loss: 0.6945 - accuracy: 0.5097 - val_loss: 0.6954 - val_accuracy: 0.4970\n",
            "Epoch 59/100\n",
            "313/313 [==============================] - 5s 17ms/step - loss: 0.6946 - accuracy: 0.5034 - val_loss: 0.6999 - val_accuracy: 0.5030\n",
            "Epoch 60/100\n",
            "313/313 [==============================] - 7s 24ms/step - loss: 0.6948 - accuracy: 0.5000 - val_loss: 0.6953 - val_accuracy: 0.4970\n",
            "Epoch 61/100\n",
            "313/313 [==============================] - 5s 17ms/step - loss: 0.6944 - accuracy: 0.5070 - val_loss: 0.6937 - val_accuracy: 0.4930\n",
            "Epoch 62/100\n",
            "313/313 [==============================] - 7s 22ms/step - loss: 0.6936 - accuracy: 0.5125 - val_loss: 0.6953 - val_accuracy: 0.4920\n",
            "Epoch 63/100\n",
            "313/313 [==============================] - 5s 16ms/step - loss: 0.6925 - accuracy: 0.5203 - val_loss: 0.6926 - val_accuracy: 0.4870\n",
            "Epoch 64/100\n",
            "313/313 [==============================] - 7s 21ms/step - loss: 0.6868 - accuracy: 0.5389 - val_loss: 0.6815 - val_accuracy: 0.5570\n",
            "Epoch 65/100\n",
            "313/313 [==============================] - 6s 19ms/step - loss: 0.6751 - accuracy: 0.5693 - val_loss: 0.6670 - val_accuracy: 0.5750\n",
            "Epoch 66/100\n",
            "313/313 [==============================] - 7s 23ms/step - loss: 0.6586 - accuracy: 0.6037 - val_loss: 0.6479 - val_accuracy: 0.6370\n",
            "Epoch 67/100\n",
            "313/313 [==============================] - 6s 19ms/step - loss: 0.6481 - accuracy: 0.6224 - val_loss: 0.6338 - val_accuracy: 0.6440\n",
            "Epoch 68/100\n",
            "313/313 [==============================] - 5s 17ms/step - loss: 0.6414 - accuracy: 0.6385 - val_loss: 0.6240 - val_accuracy: 0.6470\n",
            "Epoch 69/100\n",
            "313/313 [==============================] - 7s 22ms/step - loss: 0.6330 - accuracy: 0.6505 - val_loss: 0.6127 - val_accuracy: 0.6770\n",
            "Epoch 70/100\n",
            "313/313 [==============================] - 5s 17ms/step - loss: 0.6234 - accuracy: 0.6554 - val_loss: 0.6027 - val_accuracy: 0.6770\n",
            "Epoch 71/100\n",
            "313/313 [==============================] - 7s 22ms/step - loss: 0.6128 - accuracy: 0.6662 - val_loss: 0.5935 - val_accuracy: 0.6800\n",
            "Epoch 72/100\n",
            "313/313 [==============================] - 5s 17ms/step - loss: 0.6074 - accuracy: 0.6699 - val_loss: 0.5834 - val_accuracy: 0.6910\n",
            "Epoch 73/100\n",
            "313/313 [==============================] - 7s 21ms/step - loss: 0.5975 - accuracy: 0.6801 - val_loss: 0.5738 - val_accuracy: 0.7110\n",
            "Epoch 74/100\n",
            "313/313 [==============================] - 6s 18ms/step - loss: 0.5828 - accuracy: 0.6923 - val_loss: 0.5516 - val_accuracy: 0.7310\n",
            "Epoch 75/100\n",
            "313/313 [==============================] - 7s 23ms/step - loss: 0.5696 - accuracy: 0.7096 - val_loss: 0.5407 - val_accuracy: 0.7370\n",
            "Epoch 76/100\n",
            "313/313 [==============================] - 6s 19ms/step - loss: 0.5549 - accuracy: 0.7280 - val_loss: 0.5238 - val_accuracy: 0.7460\n",
            "Epoch 77/100\n",
            "313/313 [==============================] - 7s 22ms/step - loss: 0.5438 - accuracy: 0.7342 - val_loss: 0.5084 - val_accuracy: 0.7600\n",
            "Epoch 78/100\n",
            "313/313 [==============================] - 6s 21ms/step - loss: 0.5254 - accuracy: 0.7524 - val_loss: 0.4934 - val_accuracy: 0.7550\n",
            "Epoch 79/100\n",
            "313/313 [==============================] - 5s 17ms/step - loss: 0.5086 - accuracy: 0.7649 - val_loss: 0.4548 - val_accuracy: 0.7970\n",
            "Epoch 80/100\n",
            "313/313 [==============================] - 7s 22ms/step - loss: 0.4842 - accuracy: 0.7810 - val_loss: 0.4384 - val_accuracy: 0.8080\n",
            "Epoch 81/100\n",
            "313/313 [==============================] - 5s 17ms/step - loss: 0.4623 - accuracy: 0.7973 - val_loss: 0.4193 - val_accuracy: 0.8150\n",
            "Epoch 82/100\n",
            "313/313 [==============================] - 7s 22ms/step - loss: 0.4380 - accuracy: 0.8091 - val_loss: 0.4329 - val_accuracy: 0.8130\n",
            "Epoch 83/100\n",
            "313/313 [==============================] - 5s 17ms/step - loss: 0.4328 - accuracy: 0.8182 - val_loss: 0.4206 - val_accuracy: 0.8100\n",
            "Epoch 84/100\n",
            "313/313 [==============================] - 6s 21ms/step - loss: 0.4158 - accuracy: 0.8230 - val_loss: 0.4223 - val_accuracy: 0.8160\n",
            "Epoch 85/100\n",
            "313/313 [==============================] - 6s 19ms/step - loss: 0.4048 - accuracy: 0.8265 - val_loss: 0.4332 - val_accuracy: 0.8090\n",
            "Epoch 86/100\n",
            "313/313 [==============================] - 5s 17ms/step - loss: 0.3992 - accuracy: 0.8306 - val_loss: 0.3925 - val_accuracy: 0.8200\n",
            "Epoch 87/100\n",
            "313/313 [==============================] - 7s 22ms/step - loss: 0.3934 - accuracy: 0.8295 - val_loss: 0.4351 - val_accuracy: 0.7940\n",
            "Epoch 88/100\n",
            "313/313 [==============================] - 5s 17ms/step - loss: 0.3854 - accuracy: 0.8320 - val_loss: 0.3986 - val_accuracy: 0.8160\n",
            "Epoch 89/100\n",
            "313/313 [==============================] - 7s 23ms/step - loss: 0.3859 - accuracy: 0.8348 - val_loss: 0.4133 - val_accuracy: 0.7960\n",
            "Epoch 90/100\n",
            "313/313 [==============================] - 5s 17ms/step - loss: 0.3802 - accuracy: 0.8363 - val_loss: 0.3976 - val_accuracy: 0.8200\n",
            "Epoch 91/100\n",
            "313/313 [==============================] - 6s 20ms/step - loss: 0.3793 - accuracy: 0.8387 - val_loss: 0.4094 - val_accuracy: 0.8140\n",
            "Epoch 92/100\n",
            "313/313 [==============================] - 6s 18ms/step - loss: 0.3774 - accuracy: 0.8358 - val_loss: 0.3867 - val_accuracy: 0.8260\n",
            "Epoch 93/100\n",
            "313/313 [==============================] - 5s 17ms/step - loss: 0.3679 - accuracy: 0.8428 - val_loss: 0.3780 - val_accuracy: 0.8240\n",
            "Epoch 94/100\n",
            "313/313 [==============================] - 7s 21ms/step - loss: 0.3636 - accuracy: 0.8431 - val_loss: 0.3768 - val_accuracy: 0.8140\n",
            "Epoch 95/100\n",
            "313/313 [==============================] - 5s 17ms/step - loss: 0.3632 - accuracy: 0.8455 - val_loss: 0.3708 - val_accuracy: 0.8390\n",
            "Epoch 96/100\n",
            "313/313 [==============================] - 7s 22ms/step - loss: 0.3567 - accuracy: 0.8468 - val_loss: 0.3964 - val_accuracy: 0.8220\n",
            "Epoch 97/100\n",
            "313/313 [==============================] - 6s 18ms/step - loss: 0.3563 - accuracy: 0.8507 - val_loss: 0.3891 - val_accuracy: 0.8150\n",
            "Epoch 98/100\n",
            "313/313 [==============================] - 7s 22ms/step - loss: 0.3549 - accuracy: 0.8490 - val_loss: 0.3789 - val_accuracy: 0.8270\n",
            "Epoch 99/100\n",
            "313/313 [==============================] - 5s 17ms/step - loss: 0.3534 - accuracy: 0.8457 - val_loss: 0.3831 - val_accuracy: 0.8340\n",
            "Epoch 100/100\n",
            "313/313 [==============================] - 6s 19ms/step - loss: 0.3501 - accuracy: 0.8493 - val_loss: 0.3805 - val_accuracy: 0.8170\n"
          ]
        }
      ]
    },
    {
      "cell_type": "code",
      "source": [
        "print(history.history.keys())\n",
        "plt.plot(history.history['accuracy'])\n",
        "plt.plot(history.history['val_accuracy'])\n",
        "plt.title('model accuracy')\n",
        "plt.ylabel('accuracy')\n",
        "plt.xlabel('epoch')\n",
        "plt.legend(['train','test'], loc='upper left')\n",
        "plt.show()"
      ],
      "metadata": {
        "colab": {
          "base_uri": "https://localhost:8080/",
          "height": 489
        },
        "id": "lVm_wwuwuYLi",
        "outputId": "d26f6046-495c-46bf-f55d-81d0f16ae163"
      },
      "execution_count": 55,
      "outputs": [
        {
          "output_type": "stream",
          "name": "stdout",
          "text": [
            "dict_keys(['loss', 'accuracy', 'val_loss', 'val_accuracy'])\n"
          ]
        },
        {
          "output_type": "display_data",
          "data": {
            "text/plain": [
              "<Figure size 640x480 with 1 Axes>"
            ],
            "image/png": "[encoded data removed]"
          },
          "metadata": {}
        }
      ]
    },
    {
      "cell_type": "code",
      "source": [
        "pred_results = model.predict(([inputs_test,queries_test]))"
      ],
      "metadata": {
        "colab": {
          "base_uri": "https://localhost:8080/"
        },
        "id": "0uZkc8rtxAi9",
        "outputId": "1dec97d5-d314-49b5-9e82-074e226c1df7"
      },
      "execution_count": 56,
      "outputs": [
        {
          "output_type": "stream",
          "name": "stdout",
          "text": [
            "32/32 [==============================] - 1s 7ms/step\n"
          ]
        }
      ]
    },
    {
      "cell_type": "code",
      "source": [
        "val_max = np.argmax(pred_results[0])"
      ],
      "metadata": {
        "id": "2n-wRghJxOz4"
      },
      "execution_count": 58,
      "outputs": []
    },
    {
      "cell_type": "code",
      "source": [
        "for key, val in tokenizer.word_index.items():\n",
        "  if val == val_max:\n",
        "    k = key"
      ],
      "metadata": {
        "id": "nYpqtjm2xbNM"
      },
      "execution_count": 59,
      "outputs": []
    },
    {
      "cell_type": "code",
      "source": [
        "k"
      ],
      "metadata": {
        "colab": {
          "base_uri": "https://localhost:8080/",
          "height": 35
        },
        "id": "fewBmejYyH0a",
        "outputId": "781157d0-d1fc-4eb3-8838-ea579b634f82"
      },
      "execution_count": 60,
      "outputs": [
        {
          "output_type": "execute_result",
          "data": {
            "text/plain": [
              "'no'"
            ],
            "application/vnd.google.colaboratory.intrinsic+json": {
              "type": "string"
            }
          },
          "metadata": {},
          "execution_count": 60
        }
      ]
    },
    {
      "cell_type": "code",
      "source": [
        "pred_results[0][val_max]"
      ],
      "metadata": {
        "colab": {
          "base_uri": "https://localhost:8080/"
        },
        "id": "zCGI5PBXyIgV",
        "outputId": "c567fdce-8466-4554-d063-782194dc03e7"
      },
      "execution_count": 61,
      "outputs": [
        {
          "output_type": "execute_result",
          "data": {
            "text/plain": [
              "0.95013404"
            ]
          },
          "metadata": {},
          "execution_count": 61
        }
      ]
    },
    {
      "cell_type": "code",
      "source": [
        "my_story = 'John left the kitchen . Sandra dropped the football in the garden .'.split()"
      ],
      "metadata": {
        "id": "-rTrBkP3yOgq"
      },
      "execution_count": 64,
      "outputs": []
    },
    {
      "cell_type": "code",
      "source": [
        "my_question = 'Is the football in the garden ?'.split()"
      ],
      "metadata": {
        "id": "Ye9RndPeyu3f"
      },
      "execution_count": 66,
      "outputs": []
    },
    {
      "cell_type": "code",
      "source": [
        "mydata = [(my_story, my_question, 'yes')]"
      ],
      "metadata": {
        "id": "ZKPcGmivy6nP"
      },
      "execution_count": 67,
      "outputs": []
    },
    {
      "cell_type": "code",
      "source": [
        "my_story, my_ques, my_ans = vectorize_stories(mydata)"
      ],
      "metadata": {
        "id": "O5RQXUMkzFMx"
      },
      "execution_count": 68,
      "outputs": []
    },
    {
      "cell_type": "code",
      "source": [
        "my_pred = model.predict(([my_story, my_ques]))"
      ],
      "metadata": {
        "colab": {
          "base_uri": "https://localhost:8080/"
        },
        "id": "jafBywrJzRAP",
        "outputId": "c90fc995-dd1b-4692-fe35-abe80bbfcba7"
      },
      "execution_count": 69,
      "outputs": [
        {
          "output_type": "stream",
          "name": "stdout",
          "text": [
            "1/1 [==============================] - 0s 45ms/step\n"
          ]
        }
      ]
    },
    {
      "cell_type": "code",
      "source": [
        "val_max = np.argmax(my_pred[0])\n",
        "for key, val in tokenizer.word_index.items():\n",
        "  if val == val_max:\n",
        "    k = key\n",
        "k"
      ],
      "metadata": {
        "colab": {
          "base_uri": "https://localhost:8080/",
          "height": 35
        },
        "id": "uvKtNbo-zku1",
        "outputId": "97104fc8-1333-42a9-97be-c54ca451d51a"
      },
      "execution_count": 70,
      "outputs": [
        {
          "output_type": "execute_result",
          "data": {
            "text/plain": [
              "'yes'"
            ],
            "application/vnd.google.colaboratory.intrinsic+json": {
              "type": "string"
            }
          },
          "metadata": {},
          "execution_count": 70
        }
      ]
    },
    {
      "cell_type": "code",
      "source": [
        "my_pred[0][val_max]"
      ],
      "metadata": {
        "colab": {
          "base_uri": "https://localhost:8080/"
        },
        "id": "TDUPD7Tozt3f",
        "outputId": "d8e3d099-10fc-4638-a013-e9a2cdaef53c"
      },
      "execution_count": 71,
      "outputs": [
        {
          "output_type": "execute_result",
          "data": {
            "text/plain": [
              "0.89620185"
            ]
          },
          "metadata": {},
          "execution_count": 71
        }
      ]
    },
    {
      "cell_type": "code",
      "source": [],
      "metadata": {
        "id": "0JDGIPNcz1BW"
      },
      "execution_count": null,
      "outputs": []
    }
  ]
}